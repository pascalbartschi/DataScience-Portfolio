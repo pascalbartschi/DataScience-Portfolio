{
 "cells": [
  {
   "cell_type": "markdown",
   "source": [
    "# Ironman\n",
    "\n",
    "In this script we analyse the Ironman data set with simple statistical measures. We implement the statustical measures ourselves to get a better understanding of how they work.\n",
    "\n",
    "We load the data and the necessary libraries:"
   ],
   "metadata": {
    "collapsed": false
   }
  },
  {
   "cell_type": "code",
   "execution_count": 6,
   "outputs": [],
   "source": [
    "# libs\n",
    "import numpy as np\n",
    "import pandas as pd\n",
    "import matplotlib.pyplot as plt\n",
    "\n",
    "# data\n",
    "data = np.loadtxt(\"data/ironman.txt\")\n",
    "# define columns\n",
    "age = 2010 - data[:, 1]\n",
    "tot_time = data[:,2]\n",
    "tot_rank = data[:,0]\n",
    "swim_time = data[:, 3]\n",
    "cyc_time = data[:, 5]\n",
    "run_time = data[:, 7]"
   ],
   "metadata": {
    "collapsed": false,
    "ExecuteTime": {
     "end_time": "2023-08-15T14:46:20.200210500Z",
     "start_time": "2023-08-15T14:46:19.725072300Z"
    }
   }
  },
  {
   "cell_type": "markdown",
   "source": [
    "Next, we define the functions for the:\n",
    "* mean\n",
    "* variance\n",
    "* standard deviation\n",
    "* uncertainty on the mean\n",
    "* plotting of a histogram\n",
    "* covariance\n",
    "* correlation coefficient"
   ],
   "metadata": {
    "collapsed": false
   }
  },
  {
   "cell_type": "code",
   "execution_count": 7,
   "outputs": [],
   "source": [
    "def mean(x):\n",
    "    \"\"\"Calculate the mean for an array-like object x.\n",
    "\n",
    "    Parameters\n",
    "    ----------\n",
    "    x : array-like\n",
    "        Array-like object containing the data.\n",
    "\n",
    "    Returns\n",
    "    -------\n",
    "    mean : float\n",
    "        The mean of the data.\n",
    "    \"\"\"\n",
    "    # here goes your code\n",
    "    summed = 0\n",
    "    for i in range(len(x)):\n",
    "        summed += x[i]\n",
    "\n",
    "    return summed / len(x)\n",
    "\n",
    "\n",
    "def variance(x):\n",
    "\n",
    "    \"\"\"Calculate the variance for an array-like object x.\"\"\"\n",
    "    mean_x = mean(x)\n",
    "    varsum = 0\n",
    "    for i in range(len(x)):\n",
    "        varsum += (x[i] - mean_x) ** 2\n",
    "\n",
    "    return varsum / len(x)\n",
    "\n",
    "\n",
    "def std(x):\n",
    "    \"\"\"Calculate the standard deviation for an array-like object x.\"\"\"\n",
    "\n",
    "    return (variance(x)) ** 0.5  # replace this with your code\n",
    "\n",
    "\n",
    "def mean_uncertainty(x):\n",
    "    \"\"\"Calculate the uncertainty in the mean for an array-like object x.\"\"\"\n",
    "\n",
    "    return std(x) / len(x) ** 0.5\n",
    "\n",
    "\n",
    "def histogram(x, bins, title):\n",
    "    \"\"\"X is an array like object and bins are the asked number of bins\"\"\"\n",
    "\n",
    "    bins = bins + 1                                              # number of bins + 1 because one is lost in process\n",
    "    x_bins = np.arange(min(x), max(x), (max(x)-min(x)) / bins)   # bin edges for x\n",
    "    x_binned = []\n",
    "    x_freq = []\n",
    "    x_unit = []\n",
    "\n",
    "    for i in range(len(x_bins) - 1):\n",
    "\n",
    "       x_binned.append(x[np.logical_and(x_bins[i] <= x, x_bins[i+1] > x)])\n",
    "       x_freq.append(len(x_binned[i]))\n",
    "       x_unit.append(str(round(x_bins[i],1)) + \"-\" + str(round(x_bins[i+1],1)))\n",
    "\n",
    "    # x_binned = np.array(x_binned)\n",
    "    x_freq = np.array(x_freq)\n",
    "\n",
    "    sta_uncertainty = len(x) ** 0.5\n",
    "\n",
    "    # histograms of\n",
    "    plt.figure()\n",
    "    plt.rcParams.update({'font.size': 7})\n",
    "    title_ = \"Histogram of \" + str(title)\n",
    "    plt.title(title_)\n",
    "    plt.ylabel(\"Frequency\")\n",
    "    plt.xticks(rotation = 45)\n",
    "    plt.bar(x = x_unit, height = x_freq, yerr = sta_uncertainty)\n",
    "\n",
    "    return ()\n",
    "\n",
    "def covariance(x1,x2):\n",
    "    '''covariance of to random variables'''\n",
    "    covsum = 0\n",
    "    mean_x1 = mean(x1)\n",
    "    mean_x2 = mean(x2)\n",
    "    for i in range(len(x1)):\n",
    "        covsum += (x1[i] - mean_x1) * (x2[i] - mean_x2)\n",
    "\n",
    "    return (covsum / len(x1))        # sample formula: len(x1) - 1\n",
    "\n",
    "def correlation_coefficient(x1, x2):\n",
    "    '''pearson correlation coefficient of two random variables'''\n",
    "\n",
    "    return covariance(x1, x2) / (std(x1) * std(x2))"
   ],
   "metadata": {
    "collapsed": false,
    "ExecuteTime": {
     "end_time": "2023-08-15T14:46:20.961112800Z",
     "start_time": "2023-08-15T14:46:20.951080Z"
    }
   }
  },
  {
   "cell_type": "markdown",
   "source": [
    "Let's Calculate the mean, uncertainty of the mean, variance, and standard deviation of the\n",
    "* age distribution\n",
    "* total time distribution\n",
    "\n",
    "directly from the data."
   ],
   "metadata": {
    "collapsed": false
   }
  },
  {
   "cell_type": "code",
   "execution_count": 9,
   "outputs": [
    {
     "name": "stdout",
     "output_type": "stream",
     "text": [
      "AGE DISTRIBUTION\n",
      "The mean age of the participants is 39.33 +/- 0.18 years.\n",
      "The variance of age of the participants is 63.04 and the standard deviation 7.94 years.\n",
      "\n",
      "TOTAL TIME DISTRIBUTION\n",
      "The mean total time of the participants is 697.15 +/- 2.04 minutes.\n",
      "The variance of total time of the participants is 7826.68 and the standard deviation 88.47 minutes.\n"
     ]
    }
   ],
   "source": [
    "print(\"AGE DISTRIBUTION\")\n",
    "mean_age = mean(age)\n",
    "mean_age_uncertainty = mean_uncertainty(age)\n",
    "# .2f means that the number is printed with two decimals. Check if that makes sense\n",
    "print(f\"The mean age of the participants is {mean_age:.2f} +/- {mean_age_uncertainty:.2f} years.\")\n",
    "var_age = variance(age)\n",
    "std_age = std(age)\n",
    "print(f\"The variance of age of the participants is {var_age:.2f} and the standard deviation {std_age:.2f} years.\")\n",
    "\n",
    "print(\"\\nTOTAL TIME DISTRIBUTION\")\n",
    "mean_tt = mean(tot_time)\n",
    "mean_tt_uncertainty = mean_uncertainty(tot_time)\n",
    "# .2f means that the number is printed with two decimals. Check if that makes sense\n",
    "print(f\"The mean total time of the participants is {mean_tt:.2f} +/- {mean_tt_uncertainty:.2f} minutes.\")\n",
    "var_tt = variance(tot_time)\n",
    "std_tt = std(tot_time)\n",
    "print(f\"The variance of total time of the participants is {var_tt:.2f} and the standard deviation {std_tt:.2f} minutes.\")"
   ],
   "metadata": {
    "collapsed": false,
    "ExecuteTime": {
     "end_time": "2023-08-15T14:46:30.688560700Z",
     "start_time": "2023-08-15T14:46:30.661762300Z"
    }
   }
  },
  {
   "cell_type": "markdown",
   "source": [
    "Let's compute the average of the total time for people younger and older than 35 years. We calculate the uncertainty on these two times. Can we conclude that one group is faster than the other?"
   ],
   "metadata": {
    "collapsed": false
   }
  },
  {
   "cell_type": "code",
   "execution_count": 11,
   "outputs": [
    {
     "name": "stdout",
     "output_type": "stream",
     "text": [
      "The mean total time of the young participants is 679.22 +/- 3.64 \n",
      "The mean total time of the old participants is 705.16 +/- 2.52\n",
      "\n",
      "Yes, one can conclude that the younger ones were faster because the upper uncertainty bound of \n",
      "the younger peoble (= 682.86) doesn't lie within the uncertainty interval of the old ones (check above) \n"
     ]
    }
   ],
   "source": [
    "data_copy = np.copy(data)\n",
    "data_copy[:,1] = 2010 - data_copy[:,1]\n",
    "\n",
    "young = data_copy[data_copy[:,1] < 35][:,2]\n",
    "old = data_copy[data_copy[:,1] > 35][:,2]\n",
    "mean_young = mean(young)\n",
    "mean_young_uncertainty = mean_uncertainty(young)\n",
    "mean_old = mean(old)\n",
    "mean_old_uncertainty = mean_uncertainty(old)\n",
    "print(f\"The mean total time of the young participants is {mean_young:.2f} +/- {mean_young_uncertainty:.2f} \\n\"\n",
    "      f\"The mean total time of the old participants is {mean_old:.2f} +/- {mean_old_uncertainty:.2f}\")\n",
    "print(\"\\nYes, one can conclude that the younger ones were faster because the upper uncertainty bound of \\n\"\n",
    "      f\"the younger peoble (= {mean_young + mean_young_uncertainty:.2f}) doesn't lie within the uncertainty \"\n",
    "      f\"interval of the old ones (check above) \")"
   ],
   "metadata": {
    "collapsed": false,
    "ExecuteTime": {
     "end_time": "2023-08-15T14:47:39.220594300Z",
     "start_time": "2023-08-15T14:47:39.195931500Z"
    }
   }
  },
  {
   "cell_type": "markdown",
   "source": [
    "Let's histogram and plot the age and total time distributions with error bars according to the statistical uncertainty in each bin."
   ],
   "metadata": {
    "collapsed": false
   }
  },
  {
   "cell_type": "code",
   "execution_count": 12,
   "outputs": [
    {
     "data": {
      "text/plain": "()"
     },
     "execution_count": 12,
     "metadata": {},
     "output_type": "execute_result"
    },
    {
     "data": {
      "text/plain": "<Figure size 640x480 with 1 Axes>",
      "image/png": "[encoded data removed]"
     },
     "metadata": {},
     "output_type": "display_data"
    },
    {
     "data": {
      "text/plain": "<Figure size 640x480 with 1 Axes>",
      "image/png": "[encoded data removed]"
     },
     "metadata": {},
     "output_type": "display_data"
    }
   ],
   "source": [
    "histogram(x = age, bins = 10, title = \"age\")\n",
    "histogram(x = tot_time, bins = 10, title = \"total time\")"
   ],
   "metadata": {
    "collapsed": false,
    "ExecuteTime": {
     "end_time": "2023-08-15T14:48:48.132540Z",
     "start_time": "2023-08-15T14:48:47.885737700Z"
    }
   }
  },
  {
   "cell_type": "markdown",
   "source": [
    "Now, we calculate the mean, variance and standard deviation of the distribution from the histograms of the age and total time. Let's compare the results with those we got in the first part. Let's use different bin widths and comment on what we observe."
   ],
   "metadata": {
    "collapsed": false
   }
  },
  {
   "cell_type": "code",
   "execution_count": 38,
   "outputs": [
    {
     "name": "stdout",
     "output_type": "stream",
     "text": [
      "Conclusion: The higher the binwidth is set, the higher the variance and standard deviation become, which means that the mean precision is higher at lower binwidths\n"
     ]
    }
   ],
   "source": [
    "binwidths_tt = [5, 10, 15, 20, 30, 50]\n",
    "binwidths_age = [2, 3, 4, 5, 6, 7]\n",
    "means_tt = np.zeros((4, 6))\n",
    "means_tt[0, :] = binwidths_tt\n",
    "means_age = np.zeros((4, 6))\n",
    "means_age[0, :] = binwidths_age\n",
    "\n",
    "for bw1,bw2 in zip(enumerate(binwidths_tt), enumerate(binwidths_age)):\n",
    "    i, j , bw_tt, bw_age = bw1[0], bw2[0],  bw1[1], bw2[1]\n",
    "\n",
    "    hist_tt = np.histogram(a=tot_time, bins=int((max(tot_time) - min(tot_time)) / bw_tt), range = (min(tot_time), max(tot_time)))[1]\n",
    "    hist_age = np.histogram(a=age, bins=int((max(age) - min(age)) / bw_age), range = (min(age), max(age)))[1]\n",
    "    hist_age = list(hist_age)\n",
    "    hist_tt = list(hist_tt)\n",
    "\n",
    "    if i != 0:\n",
    "      tt = [tot_time[int(hist_tt[i - 1]):int(hist_tt[i])]]\n",
    "    else: tt = [tot_time[:int(hist_tt[i])]]\n",
    "    means_tt[1:, i] = np.array([mean(mean(tt)), mean(variance(tt)), mean(std(tt))])\n",
    "\n",
    "    if j != 0:\n",
    "      a = [age[int(hist_age[j - 1]): int(hist_age[j])]]\n",
    "    else: a = [age[:int(hist_age[j])]]\n",
    "    means_age[1:, j] = [mean(mean(a)), mean(variance(a)), mean(std(a))]\n",
    "\n",
    "# print(pd.DataFrame(means_tt[1:, :], columns = means_tt[0, :], index = [\"mean\", \"variance\", \"std\"]))\n",
    "# todo needs some debuggin here\n",
    "\n",
    "print(\"Conclusion: The higher the binwidth is set, the higher the variance and standard deviation become, which means \" \\\n",
    "      \"that the mean precision is higher at lower binwidths\")"
   ],
   "metadata": {
    "collapsed": false,
    "ExecuteTime": {
     "end_time": "2023-08-15T15:08:30.002769500Z",
     "start_time": "2023-08-15T15:08:29.970980700Z"
    }
   }
  },
  {
   "cell_type": "markdown",
   "source": [
    "We calculate the covariance and correlation coefficient between\n",
    "* the total rank and the total time\n",
    "* the age (in 2010) and the total time\n",
    "* the total time and the swimming time\n",
    "* the cycling time and the running time\n",
    "\n",
    "Let's take a look at the scatter plots from the EDA of ironman and compare the results with the results we got.\n",
    "\n"
   ],
   "metadata": {
    "collapsed": false
   }
  },
  {
   "cell_type": "code",
   "execution_count": 39,
   "outputs": [
    {
     "name": "stdout",
     "output_type": "stream",
     "text": [
      "The total rank and the total time have a covariance of 46828.21 with a correlation coefficient of 0.98.\n",
      "The age in 2010 and the total time have a covariance of 186.09 with a correlation coefficient of 0.26.\n",
      "The total time and the swimming time have a covariance of 760.19 with a correlation coefficient of 0.68.\n",
      "The cycling time and the runnning time have a covariance of 1370.72 with a correlation coefficient of 0.69.\n",
      "Conclusion: The impression from the scatter plots coincides with the calculated values above. The total time \n",
      "leads directly to the total rank, thus we see high correlation and covariance and low scatter. From eye also the \n",
      "extent of scatter of the other plots coincides with the related correlation values of this weeks exercise.\n"
     ]
    }
   ],
   "source": [
    "# total rank and total time\n",
    "cov1 = covariance(tot_rank, tot_time)\n",
    "cor1 = correlation_coefficient(tot_rank, tot_time)\n",
    "print((\"The total rank and the total time have a covariance of {:.2f} with a correlation coefficient of {:.2f}.\") \\\n",
    "      .format(cov1, cor1))\n",
    "# print(np.cov(tot_time, tot_rank))\n",
    "\n",
    "# age and total time\n",
    "cov2 = covariance(age, tot_time)\n",
    "cor2 = correlation_coefficient(age, tot_time)\n",
    "print((\"The age in 2010 and the total time have a covariance of {:.2f} with a correlation coefficient of {:.2f}.\") \\\n",
    "    .format(cov2, cor2))\n",
    "\n",
    "# total time and swimming and time\n",
    "cov3 = covariance(tot_time, swim_time)\n",
    "cor3 = correlation_coefficient(tot_time, swim_time)\n",
    "print((\"The total time and the swimming time have a covariance of {:.2f} with a correlation coefficient of {:.2f}.\") \\\n",
    "      .format(cov3, cor3))\n",
    "\n",
    "# cycling time and running time\n",
    "cov4 = covariance(cyc_time, run_time)\n",
    "cor4 = correlation_coefficient(cyc_time, run_time)\n",
    "print((\"The cycling time and the runnning time have a covariance of {:.2f} with a correlation coefficient of {:.2f}.\") \\\n",
    "      .format(cov4, cor4))\n",
    "\n",
    "print(\"Conclusion: The impression from the scatter plots coincides with the calculated values above. The total time \\n\"\n",
    "      \"leads directly to the total rank, thus we see high correlation and covariance and low scatter. From eye also the \\n\"\n",
    "      \"extent of scatter of the other plots coincides with the related correlation values of this weeks exercise.\")"
   ],
   "metadata": {
    "collapsed": false,
    "ExecuteTime": {
     "end_time": "2023-08-15T15:11:32.214472200Z",
     "start_time": "2023-08-15T15:11:32.189558600Z"
    }
   }
  },
  {
   "cell_type": "markdown",
   "source": [
    "We convert the total time from minutes to seconds and calculate the covariance and correlation coefficient between the age and the total time again. Which of the two changes and which stays the same?"
   ],
   "metadata": {
    "collapsed": false
   }
  },
  {
   "cell_type": "code",
   "execution_count": 40,
   "outputs": [
    {
     "name": "stdout",
     "output_type": "stream",
     "text": [
      "The age in 2010 and the total time in seconds have a covariance of 11165.20 with a correlation coefficient of 0.26 \n",
      "compared to 186.09 and 0.26 when time was measured in minutes.Fortunately, the normalization did its job and the \n",
      "correlation coefficient stays the same whereas the covariance changes\n"
     ]
    }
   ],
   "source": [
    "# the total time in seconds\n",
    "tot_time_sec = tot_time * 60\n",
    "\n",
    "# age and total time in seconds\n",
    "cov5 = covariance(age, tot_time_sec)\n",
    "cor5 = correlation_coefficient(age, tot_time_sec)\n",
    "print((\"The age in 2010 and the total time in seconds have a covariance of {:.2f} with a correlation coefficient of {:.2f} \\n\" \\\n",
    "      \"compared to {:.2f} and {:.2f} when time was measured in minutes.Fortunately, the normalization did its job and the \\n\" \\\n",
    "       \"correlation coefficient stays the same whereas the covariance changes\").format(cov5, cor5, cov2, cor2))"
   ],
   "metadata": {
    "collapsed": false,
    "ExecuteTime": {
     "end_time": "2023-08-15T15:11:53.224344Z",
     "start_time": "2023-08-15T15:11:53.200961500Z"
    }
   }
  },
  {
   "cell_type": "markdown",
   "source": [
    "# Weighted average\n",
    "\n",
    "We have been hired as a medical physicist, and our first task is to report on the level of radiation in the room where the containers of some radioactive sources, used for radiotherapy\n",
    "research, are stored. We measure the data stored in *radiation.txt* which can be found on the webpage. The measurements are taken with different dosimeters, and under different conditions, and thus have different uncertainties (2nd column). We assume that all measurements are independent from each other. The level of radiation is measured in mSv/h, millisievert per hour."
   ],
   "metadata": {
    "collapsed": false
   }
  },
  {
   "cell_type": "markdown",
   "source": [
    "First we define a function to compute the weighted average data subsets and load the data."
   ],
   "metadata": {
    "collapsed": false
   }
  },
  {
   "cell_type": "code",
   "execution_count": 41,
   "outputs": [],
   "source": [
    "radiation = np.loadtxt(\"data/radiation.txt\")"
   ],
   "metadata": {
    "collapsed": false,
    "ExecuteTime": {
     "end_time": "2023-08-15T15:16:08.881073900Z",
     "start_time": "2023-08-15T15:16:08.865150300Z"
    }
   }
  },
  {
   "cell_type": "code",
   "execution_count": 42,
   "outputs": [],
   "source": [
    "def weighted_avg(data, error):\n",
    "    '''data and error are two arrays of the same dimension to calculate weighted mean'''\n",
    "\n",
    "    numerator, denominator = 0, 0\n",
    "    for dat, err in zip(data, error):\n",
    "        numerator += dat / (err ** 2)\n",
    "        denominator += 1 / (err ** 2)\n",
    "\n",
    "    weighted_average = numerator / denominator\n",
    "    uncertainty = 1 / denominator ** 0.5\n",
    "\n",
    "    return np.array([weighted_average, uncertainty])"
   ],
   "metadata": {
    "collapsed": false,
    "ExecuteTime": {
     "end_time": "2023-08-15T15:16:10.177728300Z",
     "start_time": "2023-08-15T15:16:10.141230700Z"
    }
   }
  },
  {
   "cell_type": "markdown",
   "source": [
    "Now we calculate the average radiation level, in mSv per year, and the associated uncertainty using the weighted average."
   ],
   "metadata": {
    "collapsed": false
   }
  },
  {
   "cell_type": "code",
   "execution_count": 44,
   "outputs": [
    {
     "name": "stdout",
     "output_type": "stream",
     "text": [
      "The weighted average is 2.957e-04 +/- 7.4e-06\n"
     ]
    }
   ],
   "source": [
    "measurements = radiation[:,0]\n",
    "uncertainties = radiation[:,1]\n",
    "\n",
    "#a)\n",
    "avg = weighted_avg(measurements, uncertainties)\n",
    "print((\"The weighted average is {:.3e} +/- {:.1e}\").format(avg[0], avg[1]))"
   ],
   "metadata": {
    "collapsed": false,
    "ExecuteTime": {
     "end_time": "2023-08-15T15:16:47.205073100Z",
     "start_time": "2023-08-15T15:16:47.205073100Z"
    }
   }
  },
  {
   "cell_type": "markdown",
   "source": [
    "Based on our result, we argue and explain whether the level of radiation in that room is compatible with the natural background radiation, which has been measured to be 2.4 mSv/y. We can assume that the uncertainty on this value is negligibly small compared to the uncertainty on your measurements."
   ],
   "metadata": {
    "collapsed": false
   }
  },
  {
   "cell_type": "code",
   "execution_count": 46,
   "outputs": [
    {
     "name": "stdout",
     "output_type": "stream",
     "text": [
      "No, the backgound radiation of 2.4 mSv/y doesn't lie within the uncertainty of my measured 2.59 +/- 0.06 mSv/y \n",
      "Thus, the radiation containers have proved effect on the radiation level!\n"
     ]
    }
   ],
   "source": [
    "\n",
    "# conversion to mSv/y: 1 common year = 365 days = (365 days) * (24 hours/day) = 8760 hours\n",
    "avg_y = avg * 8760\n",
    "print((\"No, the backgound radiation of 2.4 mSv/y doesn't lie within the uncertainty of my measured {:.2f} +/- {:.2f} mSv/y \") \\\n",
    ".format(avg_y[0], avg_y[1]))\n",
    "print(\"Thus, the radiation containers have proved effect on the radiation level!\")"
   ],
   "metadata": {
    "collapsed": false,
    "ExecuteTime": {
     "end_time": "2023-08-15T15:17:35.471257700Z",
     "start_time": "2023-08-15T15:17:35.471257700Z"
    }
   }
  },
  {
   "cell_type": "code",
   "execution_count": null,
   "outputs": [],
   "source": [],
   "metadata": {
    "collapsed": false
   }
  }
 ],
 "metadata": {
  "kernelspec": {
   "display_name": "Python 3",
   "language": "python",
   "name": "python3"
  },
  "language_info": {
   "codemirror_mode": {
    "name": "ipython",
    "version": 2
   },
   "file_extension": ".py",
   "mimetype": "text/x-python",
   "name": "python",
   "nbconvert_exporter": "python",
   "pygments_lexer": "ipython2",
   "version": "2.7.6"
  }
 },
 "nbformat": 4,
 "nbformat_minor": 0
}
