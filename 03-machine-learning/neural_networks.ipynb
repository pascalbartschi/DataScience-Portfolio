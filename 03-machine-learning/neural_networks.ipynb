{
 "cells": [
  {
   "cell_type": "markdown",
   "id": "0891d6d9",
   "metadata": {},
   "source": [
    "## Neural Networks and Deep Learning"
   ]
  },
  {
   "cell_type": "code",
   "execution_count": 113,
   "id": "0033b03f",
   "metadata": {
    "ExecuteTime": {
     "end_time": "2023-08-18T11:01:20.594607100Z",
     "start_time": "2023-08-18T11:01:20.361560900Z"
    }
   },
   "outputs": [],
   "source": [
    "# Run this cell only once. You can use your preferred package manager to download the pyTorch.  \n",
    "# Refer to the official documentation.\n",
    "#! pip3 install torch torchvision torchaudio --extra-index-url https://download.pytorch.org/whl/cpu"
   ]
  },
  {
   "cell_type": "code",
   "execution_count": 114,
   "id": "46123c16",
   "metadata": {
    "ExecuteTime": {
     "end_time": "2023-08-18T11:01:20.594607100Z",
     "start_time": "2023-08-18T11:01:20.362102800Z"
    }
   },
   "outputs": [],
   "source": [
    "import torch\n",
    "from torchvision import datasets as datasets\n",
    "import matplotlib.pyplot as plt\n",
    "import numpy as np\n",
    "from torch.utils.data import DataLoader as DataLoader\n",
    "from torchvision import transforms as transforms\n",
    "import torch.nn as nn\n",
    "import torch.nn.functional as F\n",
    "import torch.optim as optim\n",
    "import torchvision"
   ]
  },
  {
   "cell_type": "markdown",
   "id": "bcc8888c",
   "metadata": {},
   "source": [
    "### A first look at a neural network\n",
    "\n",
    "Let's look at a fully-worked through example of a neural network built in *PyTorch*. The problem we will solve is a machine learning classic: classification of handwritten digits with the MNIST dataset.\n",
    "\n",
    "First, let's define the problem: We are trying to solve the classification of grayscale images of handwritten digits (28 x 28 pixels) into 10 categories (one through nine). In a grayscale image, each point in the two dimensional space has two values (a, b) assigned to it, where a and b range of 0 to 255. Or to put it simply, the pixel values fall in the range of 0 to 255. We begin by loading the dataset."
   ]
  },
  {
   "cell_type": "markdown",
   "id": "381bec44",
   "metadata": {},
   "source": [
    "#### Preprocessing\n",
    "The library works with tensors. Tensors are merely a generalisation of scalars and vectors; a scalar is a zero rank tensor, and a vector is a first rank tensor. So, in the first step, we convert the input images into tensors. For this, we will use the **torchvision.Transforms** package.\n",
    "\n",
    "We will also noramlize the images since the deep learning models tend to work better when the input values are normalized [here](https://towardsdatascience.com/why-data-should-be-normalized-before-training-a-neural-network-c626b7f66c7d)"
   ]
  },
  {
   "cell_type": "code",
   "execution_count": 115,
   "id": "087dd31c",
   "metadata": {
    "ExecuteTime": {
     "end_time": "2023-08-18T11:01:20.641980700Z",
     "start_time": "2023-08-18T11:01:20.370861300Z"
    }
   },
   "outputs": [],
   "source": [
    "transform = transforms.Compose(\n",
    "    [transforms.ToTensor(),\n",
    "     transforms.Normalize( (0.1307,), (0.3081,))])"
   ]
  },
  {
   "cell_type": "markdown",
   "id": "1b366e63",
   "metadata": {},
   "source": [
    "\n",
    "We dwnload the MNIST dataset and create the train and test split. We have to use [this](https://pytorch.org/vision/stable/generated/torchvision.datasets.MNIST.html#torchvision.datasets.MNIST) api.\n",
    "\n",
    "We load the train and test data set from MNIST"
   ]
  },
  {
   "cell_type": "code",
   "execution_count": 116,
   "id": "84165710",
   "metadata": {
    "ExecuteTime": {
     "end_time": "2023-08-18T11:01:20.984710300Z",
     "start_time": "2023-08-18T11:01:20.379754700Z"
    }
   },
   "outputs": [],
   "source": [
    "trainset = datasets.MNIST(root = 'MNIST', train = True, transform = transform, download = True)\n",
    "testset = datasets.MNIST(root = 'MNIST', train = False, transform = transform, download = True)"
   ]
  },
  {
   "cell_type": "markdown",
   "id": "9240bc37",
   "metadata": {},
   "source": [
    "#### Splitting the Dataset\n",
    "Like a good data scientist, we would create a validation split from the training data. For this, we would set a fraction. This fraction would be stored in the variable `train_size`"
   ]
  },
  {
   "cell_type": "code",
   "execution_count": 117,
   "id": "3fa55342",
   "metadata": {
    "ExecuteTime": {
     "end_time": "2023-08-18T11:01:21.004449600Z",
     "start_time": "2023-08-18T11:01:20.436499600Z"
    }
   },
   "outputs": [],
   "source": [
    "train_size = 0.8"
   ]
  },
  {
   "cell_type": "markdown",
   "id": "0f6eeb9f",
   "metadata": {},
   "source": [
    "#### We split the trainset and create the validation split from it."
   ]
  },
  {
   "cell_type": "code",
   "execution_count": 118,
   "id": "c5734950",
   "metadata": {
    "ExecuteTime": {
     "end_time": "2023-08-18T11:01:21.004449600Z",
     "start_time": "2023-08-18T11:01:20.439583600Z"
    }
   },
   "outputs": [],
   "source": [
    "train_size= int(train_size*len(trainset))\n",
    "val_size = len(trainset) - train_size\n",
    "trainset, valset = torch.utils.data.random_split(trainset, [train_size, val_size])\n",
    "# train_dataset[0][0]"
   ]
  },
  {
   "cell_type": "markdown",
   "id": "a8700492",
   "metadata": {},
   "source": [
    "##### Batch Size \n",
    "We will use stochastic gradient descent (SGD)  for learning the model parameters. So, we would load a mini batch of data. We have set the value as 4 by default."
   ]
  },
  {
   "cell_type": "code",
   "execution_count": 119,
   "id": "704c2616",
   "metadata": {
    "ExecuteTime": {
     "end_time": "2023-08-18T11:01:21.004449600Z",
     "start_time": "2023-08-18T11:01:20.444503600Z"
    }
   },
   "outputs": [],
   "source": [
    "batch_size = 4"
   ]
  },
  {
   "cell_type": "markdown",
   "id": "758f5a4e",
   "metadata": {},
   "source": [
    "### TODO (1 point)\n",
    "\n",
    "##### Dataloader\n",
    "Next, we have to create a dataloader. We have one data loader for each of the data-splits. For the training data, the `shuffle` parameter should be set to `True` while for validation and test dataloaders, `shuffle` should be `False`. \n",
    "\n",
    "You have to use the [DataLoader class] (https://pytorch.org/docs/stable/data.html#torch.utils.data.DataLoader) for this task"
   ]
  },
  {
   "cell_type": "code",
   "execution_count": 120,
   "id": "f5370109",
   "metadata": {
    "ExecuteTime": {
     "end_time": "2023-08-18T11:01:21.023096600Z",
     "start_time": "2023-08-18T11:01:20.452078500Z"
    }
   },
   "outputs": [],
   "source": [
    "trainloader = DataLoader(dataset = trainset, batch_size = batch_size, shuffle = True)\n",
    "\n",
    "valloader = DataLoader(dataset = valset, batch_size = batch_size, shuffle = False)\n",
    "\n",
    "testloader = DataLoader(dataset = testset, batch_size = batch_size, shuffle = False)"
   ]
  },
  {
   "cell_type": "markdown",
   "id": "20efea7a",
   "metadata": {},
   "source": [
    "##### Simple visualization\n",
    "Let us quickly visualize some of the training samples."
   ]
  },
  {
   "cell_type": "code",
   "execution_count": 121,
   "id": "691488e1",
   "metadata": {
    "ExecuteTime": {
     "end_time": "2023-08-18T11:01:21.119629400Z",
     "start_time": "2023-08-18T11:01:20.456234600Z"
    }
   },
   "outputs": [
    {
     "name": "stderr",
     "output_type": "stream",
     "text": [
      "Clipping input data to the valid range for imshow with RGB data ([0..1] for floats or [0..255] for integers).\n"
     ]
    },
    {
     "data": {
      "text/plain": "<Figure size 640x480 with 1 Axes>",
      "image/png": "[encoded data removed]"
     },
     "metadata": {},
     "output_type": "display_data"
    },
    {
     "name": "stdout",
     "output_type": "stream",
     "text": [
      "    1     1     4     1\n"
     ]
    }
   ],
   "source": [
    "def imshow(img):\n",
    "    img = img / 2 + 0.5     # unnormalize\n",
    "    npimg = img.numpy()\n",
    "    plt.imshow(np.transpose(npimg, (1, 2, 0)))\n",
    "    plt.show()\n",
    "\n",
    "\n",
    "# get some random training images\n",
    "dataiter = iter(trainloader)\n",
    "images, labels = next(dataiter)\n",
    "\n",
    "# show images\n",
    "imshow(torchvision.utils.make_grid(images))\n",
    "# print labels\n",
    "print(' '.join(f'{labels[j]:5}' for j in range(batch_size)))"
   ]
  },
  {
   "cell_type": "markdown",
   "id": "389a781b",
   "metadata": {},
   "source": [
    "#### Check the shape of images. \n",
    "Since we will start with Fully Connected networks, we have to convert the image into a single vector. We will do that using the `reshape` function from PyTorch. "
   ]
  },
  {
   "cell_type": "code",
   "execution_count": 122,
   "id": "f8089f02",
   "metadata": {
    "ExecuteTime": {
     "end_time": "2023-08-18T11:01:21.139474700Z",
     "start_time": "2023-08-18T11:01:20.535403600Z"
    }
   },
   "outputs": [
    {
     "data": {
      "text/plain": "torch.Size([4, 1, 28, 28])"
     },
     "execution_count": 122,
     "metadata": {},
     "output_type": "execute_result"
    }
   ],
   "source": [
    "images.shape # 4 "
   ]
  },
  {
   "cell_type": "code",
   "execution_count": 123,
   "id": "d05e3d13",
   "metadata": {
    "ExecuteTime": {
     "end_time": "2023-08-18T11:01:21.144512700Z",
     "start_time": "2023-08-18T11:01:20.546681600Z"
    }
   },
   "outputs": [
    {
     "data": {
      "text/plain": "784"
     },
     "execution_count": 123,
     "metadata": {},
     "output_type": "execute_result"
    }
   ],
   "source": [
    "input_dim = images.reshape(batch_size, -1).shape[1]\n",
    "input_dim"
   ]
  },
  {
   "cell_type": "markdown",
   "id": "b5f340f1",
   "metadata": {},
   "source": [
    "#### Structure \n",
    "So our network will receive a single vector of 784 dimensions and return a vector of 10 dimensions. The output shall correspond to how likely the vector represents a specific class. (The higher the value, the better) "
   ]
  },
  {
   "cell_type": "markdown",
   "id": "14fd9e2f",
   "metadata": {},
   "source": [
    "\n",
    "\n",
    "### A Fully Connected Network\n",
    "Our network should have three linear layers. The last layer should have `out_features = num_classes`. We implement the `forward()` function, as  the processing happens in the forward function. We also use `F.relu()` for the non-linearity. The `in_channel` and `out_channel` should be integers."
   ]
  },
  {
   "cell_type": "code",
   "execution_count": 124,
   "id": "9b5c6209",
   "metadata": {
    "ExecuteTime": {
     "end_time": "2023-08-18T11:01:21.144512700Z",
     "start_time": "2023-08-18T11:01:20.554765Z"
    }
   },
   "outputs": [],
   "source": [
    "class FCNetwork(nn.Module):\n",
    "    def __init__(self, input_dim, num_classes=10):\n",
    "        super().__init__()\n",
    "        self.lin1 = nn.Linear(in_features = input_dim, out_features = input_dim//2) # input the 784 vector\n",
    "        self.lin2 = nn.Linear(in_features = input_dim//2, out_features = input_dim//4)\n",
    "        self.lin3 = nn.Linear(in_features = input_dim//4, out_features = num_classes) # defines number of classes\n",
    "\n",
    "    def forward(self, x):\n",
    "        x = self.lin1(x)\n",
    "        # Apply ReLU\n",
    "        x = F.relu(x)\n",
    "        x = self.lin2(x)\n",
    "        # Apply ReLU\n",
    "        x = F.relu(x)\n",
    "        x = self.lin3(x)\n",
    "        return x\n",
    "    \n",
    "# as we convert image into vector, we lose information of locality --> CNNetworks better"
   ]
  },
  {
   "cell_type": "code",
   "execution_count": 125,
   "id": "22871295",
   "metadata": {
    "ExecuteTime": {
     "end_time": "2023-08-18T11:01:21.149520800Z",
     "start_time": "2023-08-18T11:01:20.559498700Z"
    }
   },
   "outputs": [],
   "source": [
    "network = FCNetwork(input_dim=input_dim, num_classes=10)"
   ]
  },
  {
   "cell_type": "markdown",
   "id": "1e579160",
   "metadata": {},
   "source": [
    "Now we create an optimizer and the loss function. We will use [CrossEntropy](https://pytorch.org/docs/stable/generated/torch.nn.CrossEntropyLoss.html) as the loss function and [SGD](https://pytorch.org/docs/stable/generated/torch.optim.SGD.html#torch.optim.SGD) as the optimizer.\n",
    "We use a learning rate of `0.001` and play around with other parameters. Put `momentum` parameter as `0.9`."
   ]
  },
  {
   "cell_type": "code",
   "execution_count": 126,
   "id": "88740c80",
   "metadata": {
    "ExecuteTime": {
     "end_time": "2023-08-18T11:01:21.151556800Z",
     "start_time": "2023-08-18T11:01:20.564847900Z"
    }
   },
   "outputs": [],
   "source": [
    "# learnrate = .001, momentum = .9\n",
    "params = list(network.parameters())\n",
    "criterion = nn.CrossEntropyLoss()\n",
    "optimizer = optim.SGD(params = params , lr = 0.001, momentum = 0.9)"
   ]
  },
  {
   "cell_type": "code",
   "execution_count": 127,
   "id": "038255a7",
   "metadata": {
    "ExecuteTime": {
     "end_time": "2023-08-18T11:01:21.151556800Z",
     "start_time": "2023-08-18T11:01:20.569668400Z"
    }
   },
   "outputs": [],
   "source": [
    "PATH = '../../../files2large/mnist_net.pth'"
   ]
  },
  {
   "cell_type": "markdown",
   "id": "91d9bb21",
   "metadata": {},
   "source": [
    "Let's train the model:"
   ]
  },
  {
   "cell_type": "code",
   "execution_count": 128,
   "id": "55b3dc6b",
   "metadata": {
    "ExecuteTime": {
     "end_time": "2023-08-18T11:02:47.431082Z",
     "start_time": "2023-08-18T11:01:20.573853400Z"
    }
   },
   "outputs": [
    {
     "name": "stdout",
     "output_type": "stream",
     "text": [
      "[1,  2000] loss: 0.584\n",
      "[1,  4000] loss: 0.257\n",
      "[1,  6000] loss: 0.205\n",
      "[1,  8000] loss: 0.176\n",
      "[1, 10000] loss: 0.148\n",
      "[1, 12000] loss: 0.147\n",
      "[1,  2000] loss: 0.134\n",
      "The new best model is at epoch 0\n",
      "Epoch: 0 over\n",
      "[2,  2000] loss: 0.096\n",
      "[2,  4000] loss: 0.104\n",
      "[2,  6000] loss: 0.082\n",
      "[2,  8000] loss: 0.098\n",
      "[2, 10000] loss: 0.080\n",
      "[2, 12000] loss: 0.096\n",
      "[2,  2000] loss: 0.106\n",
      "The new best model is at epoch 1\n",
      "Epoch: 1 over\n"
     ]
    }
   ],
   "source": [
    "# a lot of variations for the same optimizer, just select one of them\n",
    "# this part is a sceleton for the use with pytorch \n",
    "min_val_loss = float(\"inf\")\n",
    "for epoch in range(2):  # loop over the dataset multiple times\n",
    "\n",
    "    running_loss = 0.0\n",
    "    network.train()\n",
    "    for i, data in enumerate(trainloader, 0):\n",
    "        # get the inputs; data is a list of [inputs, labels]\n",
    "        inputs, labels = data\n",
    "\n",
    "        # zero the parameter gradients\n",
    "        optimizer.zero_grad()\n",
    "\n",
    "        # Reshape the inputs\n",
    "        inputs = inputs.reshape(batch_size, -1)\n",
    "        \n",
    "        outputs = network(inputs)\n",
    "        loss = criterion(outputs, labels)\n",
    "        loss.backward()\n",
    "        optimizer.step()\n",
    "\n",
    "        # print statistics\n",
    "        running_loss += loss.item()\n",
    "        if i % 2000 == 1999:    # print every 2000 mini-batches\n",
    "            print(f'[{epoch + 1}, {i + 1:5d}] loss: {running_loss / 2000:.3f}')\n",
    "            running_loss = 0.0\n",
    "\n",
    "\n",
    "# how well is is it performing on the valodation set, once it starts to overfit its good?\n",
    "# idea is to use the validation set to see when the learning process is finished an further learning would just lead to \n",
    "# overfitting. val set tells you when to stop.\n",
    "\n",
    "    network.eval()\n",
    "    val_loss = 0\n",
    "    with torch.no_grad():\n",
    "        for i, data in enumerate(valloader, 0):\n",
    "            # get the inputs; data is a list of [inputs, labels]\n",
    "            inputs, labels = data\n",
    "\n",
    "            # Reshape the inputs\n",
    "            inputs = inputs.reshape(batch_size, -1)\n",
    "            \n",
    "            outputs = network(inputs)\n",
    "            loss = criterion(outputs, labels)\n",
    "            # print statistics\n",
    "            val_loss += loss.item()\n",
    "            if i % 2000 == 1999:    # print every 2000 mini-batches\n",
    "                print(f'[{epoch + 1}, {i + 1:5d}] loss: {val_loss / 2000:.3f}')\n",
    "                val_loss = 0.0\n",
    "    if val_loss < min_val_loss:\n",
    "        min_val_loss = val_loss\n",
    "        print(f\"The new best model is at epoch {epoch}\")\n",
    "        torch.save(network.state_dict(), PATH)\n",
    "    print(f'Epoch: {epoch} over')\n",
    "    "
   ]
  },
  {
   "cell_type": "code",
   "execution_count": 129,
   "id": "a9d794de",
   "metadata": {
    "ExecuteTime": {
     "end_time": "2023-08-18T11:02:47.504634700Z",
     "start_time": "2023-08-18T11:02:47.435243200Z"
    }
   },
   "outputs": [
    {
     "name": "stderr",
     "output_type": "stream",
     "text": [
      "Clipping input data to the valid range for imshow with RGB data ([0..1] for floats or [0..255] for integers).\n"
     ]
    },
    {
     "data": {
      "text/plain": "<Figure size 640x480 with 1 Axes>",
      "image/png": "[encoded data removed]"
     },
     "metadata": {},
     "output_type": "display_data"
    },
    {
     "name": "stdout",
     "output_type": "stream",
     "text": [
      "GroundTruth:      7     2     1     0\n"
     ]
    }
   ],
   "source": [
    "dataiter = iter(testloader)\n",
    "images, labels = next(dataiter)\n",
    "\n",
    "# print images\n",
    "imshow(torchvision.utils.make_grid(images))\n",
    "print('GroundTruth: ', ' '.join(f'{labels[j]:5}' for j in range(4)))"
   ]
  },
  {
   "cell_type": "code",
   "execution_count": 130,
   "id": "fa2c5ab8",
   "metadata": {
    "ExecuteTime": {
     "end_time": "2023-08-18T11:02:47.528951Z",
     "start_time": "2023-08-18T11:02:47.504634700Z"
    }
   },
   "outputs": [
    {
     "data": {
      "text/plain": "<All keys matched successfully>"
     },
     "execution_count": 130,
     "metadata": {},
     "output_type": "execute_result"
    }
   ],
   "source": [
    "network = FCNetwork(input_dim=input_dim, num_classes=10)\n",
    "network.load_state_dict(torch.load(PATH))"
   ]
  },
  {
   "cell_type": "markdown",
   "id": "f71f8a4b",
   "metadata": {},
   "source": [
    "Reshape the input before sending it to the model."
   ]
  },
  {
   "cell_type": "code",
   "execution_count": 131,
   "id": "6fcbf78a",
   "metadata": {
    "ExecuteTime": {
     "end_time": "2023-08-18T11:02:47.533613800Z",
     "start_time": "2023-08-18T11:02:47.532129800Z"
    }
   },
   "outputs": [
    {
     "name": "stdout",
     "output_type": "stream",
     "text": [
      "784\n"
     ]
    }
   ],
   "source": [
    "print(images.reshape(batch_size, -1).shape[1])"
   ]
  },
  {
   "cell_type": "code",
   "execution_count": 132,
   "id": "47ab9a27",
   "metadata": {
    "ExecuteTime": {
     "end_time": "2023-08-18T11:02:47.599394400Z",
     "start_time": "2023-08-18T11:02:47.536630800Z"
    }
   },
   "outputs": [],
   "source": [
    "# Reshape the images variable\n",
    "images_reshaped = images.reshape(batch_size, -1)\n",
    "outputs = network(images_reshaped)"
   ]
  },
  {
   "cell_type": "code",
   "execution_count": 133,
   "id": "50eb7c1c",
   "metadata": {
    "ExecuteTime": {
     "end_time": "2023-08-18T11:02:47.619086400Z",
     "start_time": "2023-08-18T11:02:47.544170200Z"
    }
   },
   "outputs": [
    {
     "name": "stdout",
     "output_type": "stream",
     "text": [
      "Predicted:      7     2     1     0\n"
     ]
    }
   ],
   "source": [
    "_, predicted = torch.max(outputs, 1)\n",
    "\n",
    "print('Predicted: ', ' '.join(f'{predicted[j]:5}'\n",
    "                              for j in range(4)))\n",
    "\n",
    "# numbers represent number of classes --> happens bc of the loss functions (Least Squares, Cross Entropy)\n",
    "# ten classes bc 0-9\n",
    "# loss funcion reduces vector into probobilty that certain vectors fit into a certain class, vector of probabilties:\n",
    "# [0.9, .1, 0,0.....] e.g."
   ]
  },
  {
   "cell_type": "markdown",
   "id": "1c3a3657",
   "metadata": {},
   "source": [
    "#### Model evaluation\n",
    "We have already trained our model. Next, we can evaluate its performance on the `test` set. We will use `accuracy` as the evaluation metric."
   ]
  },
  {
   "cell_type": "code",
   "execution_count": 134,
   "id": "50c070a4",
   "metadata": {
    "ExecuteTime": {
     "end_time": "2023-08-18T11:02:51.589056200Z",
     "start_time": "2023-08-18T11:02:47.552308400Z"
    }
   },
   "outputs": [
    {
     "name": "stdout",
     "output_type": "stream",
     "text": [
      "Accuracy of the network on the test images: 97.11 %\n"
     ]
    }
   ],
   "source": [
    "correct = 0\n",
    "total = 0\n",
    "# since we're not training, we don't need to calculate the gradients for our outputs\n",
    "network.eval()\n",
    "with torch.no_grad():\n",
    "    for data in testloader:\n",
    "        images, labels = data\n",
    "        # calculate outputs by running images through the network\n",
    "        # Reshape the inputs\n",
    "        images = images.reshape(batch_size, -1)\n",
    "        outputs = network(images)\n",
    "        # the class with the highest energy is what we choose as prediction\n",
    "        _, predicted = torch.max(outputs.data, 1)\n",
    "        total += labels.size(0)\n",
    "        correct += (predicted == labels).sum().item()\n",
    "\n",
    "print(f'Accuracy of the network on the test images: {100 * correct / total} %')\n",
    "# how many times is the model predicting the right answer, 97% seems pretty good"
   ]
  },
  {
   "cell_type": "markdown",
   "id": "68c7589b",
   "metadata": {},
   "source": [
    "### A Convolutional Neural Network\n",
    "The network should have `two` convolution layers and `two` linear layers. The last `linear` layer should have `out_features = num_classes`.\n",
    "\n",
    "We implement the following into the `forward()` function. All the processing happens in the forward function. We also use `F.relu` for the non-linearity:\n",
    "\n",
    "* `conv1` should have in_channels = 1 (why) and out_channels = 10, kernel_size should be 5\n",
    "* `conv2` should have in_channels = 10 and out_channels = 20, kernel_size should be 5\n",
    "* Create a dropout layer. Use [Dropout2d](https://pytorch.org/docs/stable/generated/torch.nn.Dropout2d.html) for this task.  \n",
    "* Create two max_pool layers, with kernel size 2. You have to use [MaxPool2d](https://pytorch.org/docs/stable/generated/torch.nn.MaxPool2d.html) class for this task.\n",
    "* Flatten the input so that it can be processed by the linear layers \n",
    "* `fc1` should have in_features=320 (ask your tutors why), out_features = 50\n",
    "* `fc2` should have out_features = num_classes"
   ]
  },
  {
   "cell_type": "code",
   "execution_count": 135,
   "id": "289e54ad",
   "metadata": {
    "ExecuteTime": {
     "end_time": "2023-08-18T11:02:51.603411200Z",
     "start_time": "2023-08-18T11:02:51.584004600Z"
    }
   },
   "outputs": [],
   "source": [
    "class CNNNetwork(nn.Module):\n",
    "    def __init__(self):\n",
    "        super(CNNNetwork, self).__init__()\n",
    "        self.conv1 = nn.Conv2d(in_channels = 1, out_channels = 10, kernel_size = 5)\n",
    "        self.conv2 = nn.Conv2d(in_channels = 10, out_channels = 20, kernel_size = 5)\n",
    "        self.conv2_drop = nn.Dropout2d()\n",
    "        self.max_pool1 = nn.MaxPool2d(kernel_size = 2)\n",
    "        self.max_pool2 = nn.MaxPool2d(kernel_size = 2)\n",
    "        self.fc1 = nn.Linear(in_features = 320, out_features = 50)\n",
    "        self.fc2 = nn.Linear(in_features = 50, out_features = 10)\n",
    "\n",
    "    def forward(self, x):\n",
    "        x = self.conv1(x)\n",
    "        x = self.max_pool1(x)\n",
    "        # Apply ReLU\n",
    "        x = F.relu(x)\n",
    "        x = self.conv2_drop(x)\n",
    "        \n",
    "        x = self.conv2(x)\n",
    "        x = self.max_pool2(x)\n",
    "        # Apply ReLU\n",
    "        x = F.relu(x)\n",
    "        # Now flatten the input         \n",
    "        x = x.view(-1, 320)\n",
    "        x = self.fc1(x)\n",
    "        # Apply ReLU\n",
    "        x = F.relu(x)\n",
    "        x = self.fc2(x)\n",
    "        return x\n",
    "    \n",
    "# CNNetworks treat the image into grid instead of 'rows', maintains locality structure"
   ]
  },
  {
   "cell_type": "code",
   "execution_count": 136,
   "id": "a519a21d",
   "metadata": {
    "ExecuteTime": {
     "end_time": "2023-08-18T11:02:51.603411200Z",
     "start_time": "2023-08-18T11:02:51.594611Z"
    }
   },
   "outputs": [],
   "source": [
    "cnn_network = CNNNetwork()\n",
    "params = list(cnn_network.parameters())"
   ]
  },
  {
   "cell_type": "markdown",
   "id": "2fecd775",
   "metadata": {},
   "source": [
    "Next, we create an optimizer and the loss function for the `cnn_network`. We will use [CrossEntropy](https://pytorch.org/docs/stable/generated/torch.nn.CrossEntropyLoss.html) as the loss function and [SGD](https://pytorch.org/docs/stable/generated/torch.optim.SGD.html#torch.optim.SGD) as the optimizer.\n",
    "\n",
    "Use a learning rate of `0.001` and play around with other parameters. Put `momentum` parameter as `0.9`."
   ]
  },
  {
   "cell_type": "code",
   "execution_count": 137,
   "id": "30b85a3e",
   "metadata": {
    "ExecuteTime": {
     "end_time": "2023-08-18T11:02:51.611600900Z",
     "start_time": "2023-08-18T11:02:51.605662Z"
    }
   },
   "outputs": [],
   "source": [
    "criterion = nn.CrossEntropyLoss()\n",
    "optimizer = optim.SGD(params = params, lr = 0.001, momentum=0.9)"
   ]
  },
  {
   "cell_type": "code",
   "execution_count": 138,
   "id": "6776675e",
   "metadata": {
    "ExecuteTime": {
     "end_time": "2023-08-18T11:02:51.611600900Z",
     "start_time": "2023-08-18T11:02:51.609184900Z"
    }
   },
   "outputs": [],
   "source": [
    "PATH = '../../../files2large/mnist_cnn.pth'"
   ]
  },
  {
   "cell_type": "markdown",
   "id": "621c384a",
   "metadata": {},
   "source": [
    "#### Train the model\n",
    "We train the model with the loop we have seen before:"
   ]
  },
  {
   "cell_type": "code",
   "execution_count": 139,
   "id": "47c0e4b3",
   "metadata": {
    "ExecuteTime": {
     "end_time": "2023-08-18T11:02:51.667088600Z",
     "start_time": "2023-08-18T11:02:51.620988500Z"
    }
   },
   "outputs": [],
   "source": [
    "def train_cnn_model(network, train_dataloader, val_dataloader, optimizer, criterion):\n",
    "    min_val_loss = float(\"inf\")\n",
    "    for epoch in range(2):  # loop over the dataset multiple times\n",
    "\n",
    "        running_loss = 0.0\n",
    "        network.train()\n",
    "        for i, data in enumerate(train_dataloader, 0):\n",
    "            # get the inputs; data is a list of [inputs, labels]\n",
    "            inputs, labels = data\n",
    "            optimizer.zero_grad() # now convolution, we don't have to reshape into vector\n",
    "\n",
    "            outputs = network(inputs)\n",
    "            loss = criterion(outputs, labels)\n",
    "            loss.backward()\n",
    "            optimizer.step()\n",
    "\n",
    "            # print statistics\n",
    "            running_loss += loss.item()\n",
    "            if i % 2000 == 1999:    # print every 2000 mini-batches\n",
    "                print(f'[{epoch + 1}, {i + 1:5d}] loss: {running_loss / 2000:.3f}')\n",
    "                running_loss = 0.0\n",
    "\n",
    "\n",
    "        network.eval()\n",
    "        val_loss = 0\n",
    "        with torch.no_grad():\n",
    "            for i, data in enumerate(val_dataloader, 0):\n",
    "                # get the inputs; data is a list of [inputs, labels]\n",
    "                inputs, labels = data\n",
    "\n",
    "                # forward + backward + optimize\n",
    "                outputs = network(inputs)\n",
    "                loss = criterion(outputs, labels)\n",
    "                # print statistics\n",
    "                val_loss += loss.item()\n",
    "                if i % 2000 == 1999:    # print every 2000 mini-batches\n",
    "                    print(f'[{epoch + 1}, {i + 1:5d}] loss: {val_loss / 2000:.3f}')\n",
    "                    val_loss = 0.0\n",
    "        if val_loss < min_val_loss:\n",
    "            min_val_loss = val_loss\n",
    "            print(f\"The new best model is at epoch {epoch}\")\n",
    "            torch.save(network.state_dict(), PATH)\n",
    "        print(f'Epoch: {epoch} over')"
   ]
  },
  {
   "cell_type": "code",
   "execution_count": 140,
   "id": "176a8046",
   "metadata": {
    "ExecuteTime": {
     "end_time": "2023-08-18T11:04:20.273538800Z",
     "start_time": "2023-08-18T11:02:51.620988500Z"
    }
   },
   "outputs": [
    {
     "name": "stdout",
     "output_type": "stream",
     "text": [
      "[1,  2000] loss: 0.794\n",
      "[1,  4000] loss: 0.251\n",
      "[1,  6000] loss: 0.203\n",
      "[1,  8000] loss: 0.169\n",
      "[1, 10000] loss: 0.163\n",
      "[1, 12000] loss: 0.148\n",
      "[1,  2000] loss: 0.111\n",
      "The new best model is at epoch 0\n",
      "Epoch: 0 over\n",
      "[2,  2000] loss: 0.133\n",
      "[2,  4000] loss: 0.121\n",
      "[2,  6000] loss: 0.109\n",
      "[2,  8000] loss: 0.120\n",
      "[2, 10000] loss: 0.114\n",
      "[2, 12000] loss: 0.096\n",
      "[2,  2000] loss: 0.080\n",
      "The new best model is at epoch 1\n",
      "Epoch: 1 over\n"
     ]
    }
   ],
   "source": [
    "train_cnn_model(network=cnn_network, train_dataloader=trainloader, val_dataloader=valloader,\n",
    "                optimizer=optimizer, criterion=criterion)"
   ]
  },
  {
   "cell_type": "code",
   "execution_count": 141,
   "id": "b5cdff00",
   "metadata": {
    "ExecuteTime": {
     "end_time": "2023-08-18T11:04:20.308770900Z",
     "start_time": "2023-08-18T11:04:20.274127Z"
    }
   },
   "outputs": [
    {
     "data": {
      "text/plain": "<All keys matched successfully>"
     },
     "execution_count": 141,
     "metadata": {},
     "output_type": "execute_result"
    }
   ],
   "source": [
    "cnn_network = CNNNetwork()\n",
    "cnn_network.load_state_dict(torch.load(PATH))"
   ]
  },
  {
   "cell_type": "code",
   "execution_count": 142,
   "id": "0abba9d0",
   "metadata": {
    "ExecuteTime": {
     "end_time": "2023-08-18T11:04:20.308770900Z",
     "start_time": "2023-08-18T11:04:20.290655700Z"
    }
   },
   "outputs": [],
   "source": [
    "def evaluate_cnn_model(network, test_loader):\n",
    "    correct = 0\n",
    "    total = 0\n",
    "    network.eval()\n",
    "    with torch.no_grad():\n",
    "        for data in testloader:\n",
    "            images, labels = data\n",
    "            # calculate outputs by running images through the network\n",
    "            outputs = network(images)\n",
    "            # the class with the highest energy is what we choose as prediction\n",
    "            _, predicted = torch.max(outputs.data, 1)\n",
    "            total += labels.size(0)\n",
    "            correct += (predicted == labels).sum().item()\n",
    "\n",
    "    print(f'Accuracy of the network on the test images: {100 * correct / total} %')\n",
    "    \n",
    "    return correct/total\n",
    "\n",
    "# if one is smart, it is technichally possible to reach 99.5% with good parameter choice!"
   ]
  },
  {
   "cell_type": "code",
   "execution_count": 143,
   "id": "becce6ac",
   "metadata": {
    "ExecuteTime": {
     "end_time": "2023-08-18T11:04:25.010253100Z",
     "start_time": "2023-08-18T11:04:20.299206Z"
    }
   },
   "outputs": [
    {
     "name": "stdout",
     "output_type": "stream",
     "text": [
      "Accuracy of the network on the test images: 98.21 %\n"
     ]
    },
    {
     "data": {
      "text/plain": "0.9821"
     },
     "execution_count": 143,
     "metadata": {},
     "output_type": "execute_result"
    }
   ],
   "source": [
    "evaluate_cnn_model(network=cnn_network, test_loader=testloader)"
   ]
  },
  {
   "cell_type": "markdown",
   "id": "283264bd",
   "metadata": {},
   "source": [
    "---\n",
    "Now that we are experts, we perform a classification on the **CIFAR10 dataset**."
   ]
  },
  {
   "cell_type": "markdown",
   "id": "86a7ec1f",
   "metadata": {},
   "source": [
    "#### Load and normalize CIFAR10 dataset"
   ]
  },
  {
   "cell_type": "code",
   "execution_count": 144,
   "id": "b9836a07",
   "metadata": {
    "ExecuteTime": {
     "end_time": "2023-08-18T11:04:26.612656100Z",
     "start_time": "2023-08-18T11:04:25.018817200Z"
    }
   },
   "outputs": [
    {
     "name": "stdout",
     "output_type": "stream",
     "text": [
      "Files already downloaded and verified\n",
      "Files already downloaded and verified\n"
     ]
    }
   ],
   "source": [
    "# transform data to tensor\n",
    "transform = transforms.Compose(\n",
    "    [transforms.ToTensor(),\n",
    "     transforms.Normalize((0.5, 0.5, 0.5), (0.5, 0.5, 0.5))])\n",
    "\n",
    "# define batch size\n",
    "\n",
    "batch_size = 4\n",
    "\n",
    "# download data and load data in to dataloader\n",
    "\n",
    "trainset = datasets.CIFAR10(root='./data', train=True,\n",
    "                                        download=True, transform=transform)\n",
    "train_size = 0.8 # define train size\n",
    "\n",
    "# split in train and validation set\n",
    "\n",
    "train_size= int(train_size*len(trainset))\n",
    "val_size = len(trainset) - train_size\n",
    "trainset, valset = torch.utils.data.random_split(trainset, [train_size, val_size])\n",
    "\n",
    "# load datasets into DataLoader\n",
    "\n",
    "trainloader = DataLoader(trainset, batch_size=batch_size,\n",
    "                                          shuffle=True, num_workers=2)\n",
    "\n",
    "valloader = DataLoader(valset, batch_size=batch_size,\n",
    "                                          shuffle=False, num_workers=2)\n",
    "\n",
    "testset = torchvision.datasets.CIFAR10(root='./data', train=False,\n",
    "                                       download=True, transform=transform)\n",
    "testloader = torch.utils.data.DataLoader(testset, batch_size=batch_size,\n",
    "                                         shuffle=False, num_workers=2)\n",
    "\n",
    "classes = ('plane', 'car', 'bird', 'cat',\n",
    "           'deer', 'dog', 'frog', 'horse', 'ship', 'truck')"
   ]
  },
  {
   "cell_type": "code",
   "execution_count": 145,
   "id": "c84d721d",
   "metadata": {
    "ExecuteTime": {
     "end_time": "2023-08-18T11:04:31.869705Z",
     "start_time": "2023-08-18T11:04:26.612656100Z"
    }
   },
   "outputs": [
    {
     "data": {
      "text/plain": "<Figure size 640x480 with 1 Axes>",
      "image/png": "[encoded data removed]"
     },
     "metadata": {},
     "output_type": "display_data"
    },
    {
     "name": "stdout",
     "output_type": "stream",
     "text": [
      "horse ship  car   car  \n"
     ]
    }
   ],
   "source": [
    "# functions to show an image\n",
    "\n",
    "def imshow(img):\n",
    "    img = img / 2 + 0.5     # unnormalize\n",
    "    npimg = img.numpy()\n",
    "    plt.imshow(np.transpose(npimg, (1, 2, 0)))\n",
    "    plt.show()\n",
    "\n",
    "\n",
    "# get some random training images\n",
    "dataiter = iter(trainloader)\n",
    "images, labels = next(dataiter)\n",
    "\n",
    "# show images\n",
    "imshow(torchvision.utils.make_grid(images))\n",
    "# print labels\n",
    "print(' '.join(f'{classes[labels[j]]:5s}' for j in range(batch_size)))"
   ]
  },
  {
   "cell_type": "markdown",
   "id": "b77e68cc",
   "metadata": {},
   "source": [
    "### Defining another convolutional Network"
   ]
  },
  {
   "cell_type": "code",
   "execution_count": 146,
   "id": "f217205a",
   "metadata": {
    "ExecuteTime": {
     "end_time": "2023-08-18T11:04:31.878897400Z",
     "start_time": "2023-08-18T11:04:31.873985100Z"
    }
   },
   "outputs": [],
   "source": [
    "# building a network with two convolution an three linear layers\n",
    "\n",
    "class Network(nn.Module):\n",
    "    def __init__(self):\n",
    "        super().__init__()\n",
    "        self.conv1 = nn.Conv2d(in_channels = 3,out_channels =  6,kernel_size =  5)\n",
    "        self.pool = nn.MaxPool2d(kernel_size = 2, stride = 2)\n",
    "        self.conv2 = nn.Conv2d(in_channels = 6, out_channels = 16, kernel_size = 5)\n",
    "        self.fc1 = nn.Linear(in_features = 16 * 5 * 5, out_features = 120)\n",
    "        self.fc2 = nn.Linear(in_features = 120, out_features = 84)\n",
    "        self.fc3 = nn.Linear(in_features = 84, out_features = 10)\n",
    "\n",
    "    def forward(self, x):\n",
    "        x = self.pool(F.relu(self.conv1(x)))\n",
    "        x = self.pool(F.relu(self.conv2(x)))\n",
    "        x = torch.flatten(x, 1) # flatten all dimensions except batch\n",
    "        x = F.relu(self.fc1(x))\n",
    "        x = F.relu(self.fc2(x))\n",
    "        x = self.fc3(x)\n",
    "        return x\n",
    "\n",
    "\n",
    "network = Network()"
   ]
  },
  {
   "cell_type": "markdown",
   "id": "e407c570",
   "metadata": {},
   "source": [
    "#### Define loss criterion and optimizer"
   ]
  },
  {
   "cell_type": "code",
   "execution_count": 147,
   "id": "0c2db4d8",
   "metadata": {
    "ExecuteTime": {
     "end_time": "2023-08-18T11:04:31.883228500Z",
     "start_time": "2023-08-18T11:04:31.878897400Z"
    }
   },
   "outputs": [],
   "source": [
    "criterion = nn.CrossEntropyLoss()\n",
    "optimizer = optim.SGD(params = network.parameters(), lr=0.001, momentum=0.9)"
   ]
  },
  {
   "cell_type": "markdown",
   "id": "5bea8bce",
   "metadata": {},
   "source": [
    "#### Train the network on training and validation set"
   ]
  },
  {
   "cell_type": "code",
   "execution_count": 148,
   "id": "741a92e6",
   "metadata": {
    "ExecuteTime": {
     "end_time": "2023-08-18T11:04:31.890955100Z",
     "start_time": "2023-08-18T11:04:31.888704100Z"
    }
   },
   "outputs": [],
   "source": [
    "def train_network(network, train_dataloader, val_dataloader, optimizer, criterion):\n",
    "    min_val_loss = float(\"inf\")\n",
    "    for epoch in range(2):  # loop over the dataset multiple times\n",
    "\n",
    "        running_loss = 0.0\n",
    "        network.train()\n",
    "        for i, data in enumerate(train_dataloader, 0):\n",
    "            # get the inputs; data is a list of [inputs, labels]\n",
    "            inputs, labels = data\n",
    "            optimizer.zero_grad() # now convolution, we don't have to reshape into vector\n",
    "\n",
    "            outputs = network(inputs)\n",
    "            loss = criterion(outputs, labels)\n",
    "            loss.backward()\n",
    "            optimizer.step()\n",
    "\n",
    "            # print statistics\n",
    "            running_loss += loss.item()\n",
    "            if i % 2000 == 1999:    # print every 2000 mini-batches\n",
    "                print(f'[{epoch + 1}, {i + 1:5d}] loss: {running_loss / 2000:.3f}')\n",
    "                running_loss = 0.0\n",
    "\n",
    "\n",
    "        network.eval()\n",
    "        val_loss = 0\n",
    "        with torch.no_grad():\n",
    "            for i, data in enumerate(val_dataloader, 0):\n",
    "                # get the inputs; data is a list of [inputs, labels]\n",
    "                inputs, labels = data\n",
    "\n",
    "                # forward + backward + optimize\n",
    "                outputs = network(inputs)\n",
    "                loss = criterion(outputs, labels)\n",
    "                # print statistics\n",
    "                val_loss += loss.item()\n",
    "                if i % 2000 == 1999:    # print every 2000 mini-batches\n",
    "                    print(f'[{epoch + 1}, {i + 1:5d}] loss: {val_loss / 2000:.3f}')\n",
    "                    val_loss = 0.0\n",
    "        if val_loss < min_val_loss:\n",
    "            min_val_loss = val_loss\n",
    "            print(f\"The new best model is at epoch {epoch}\")\n",
    "            torch.save(network.state_dict(), PATH)\n",
    "        print(f'Epoch: {epoch} over')"
   ]
  },
  {
   "cell_type": "code",
   "execution_count": 149,
   "id": "479428d7",
   "metadata": {
    "ExecuteTime": {
     "end_time": "2023-08-18T11:06:13.525448500Z",
     "start_time": "2023-08-18T11:04:31.890955100Z"
    }
   },
   "outputs": [
    {
     "name": "stdout",
     "output_type": "stream",
     "text": [
      "[1,  2000] loss: 2.220\n",
      "[1,  4000] loss: 1.882\n",
      "[1,  6000] loss: 1.695\n",
      "[1,  8000] loss: 1.591\n",
      "[1, 10000] loss: 1.536\n",
      "[1,  2000] loss: 1.485\n",
      "The new best model is at epoch 0\n",
      "Epoch: 0 over\n",
      "[2,  2000] loss: 1.444\n",
      "[2,  4000] loss: 1.445\n",
      "[2,  6000] loss: 1.388\n",
      "[2,  8000] loss: 1.336\n",
      "[2, 10000] loss: 1.335\n",
      "[2,  2000] loss: 1.315\n",
      "The new best model is at epoch 1\n",
      "Epoch: 1 over\n"
     ]
    }
   ],
   "source": [
    "train_network(network, trainloader, valloader, optimizer, criterion)"
   ]
  },
  {
   "cell_type": "code",
   "execution_count": 150,
   "id": "9217682b",
   "metadata": {
    "ExecuteTime": {
     "end_time": "2023-08-18T11:06:13.533209300Z",
     "start_time": "2023-08-18T11:06:13.528630900Z"
    }
   },
   "outputs": [],
   "source": [
    "# save the model\n",
    "\n",
    "PATH = '../../../files2large/cifar_net.pth'\n",
    "torch.save(network.state_dict(), PATH)"
   ]
  },
  {
   "cell_type": "markdown",
   "id": "9cca0c31",
   "metadata": {},
   "source": [
    "#### Test the network on the test set"
   ]
  },
  {
   "cell_type": "code",
   "execution_count": 151,
   "id": "4aeb7347",
   "metadata": {
    "ExecuteTime": {
     "end_time": "2023-08-18T11:06:18.405348500Z",
     "start_time": "2023-08-18T11:06:13.538384600Z"
    }
   },
   "outputs": [
    {
     "data": {
      "text/plain": "<Figure size 640x480 with 1 Axes>",
      "image/png": "[encoded data removed]"
     },
     "metadata": {},
     "output_type": "display_data"
    },
    {
     "name": "stdout",
     "output_type": "stream",
     "text": [
      "GroundTruth:  cat   ship  ship  plane\n"
     ]
    }
   ],
   "source": [
    "# Display a batch to get familier with test set\n",
    "\n",
    "dataiter = iter(testloader)\n",
    "images, labels = next(dataiter)\n",
    "\n",
    "# print images\n",
    "imshow(torchvision.utils.make_grid(images))\n",
    "print('GroundTruth: ', ' '.join(f'{classes[labels[j]]:5s}' for j in range(4)))"
   ]
  },
  {
   "cell_type": "code",
   "execution_count": 152,
   "id": "3e4cd2e6",
   "metadata": {
    "ExecuteTime": {
     "end_time": "2023-08-18T11:06:18.414871800Z",
     "start_time": "2023-08-18T11:06:18.405348500Z"
    }
   },
   "outputs": [
    {
     "name": "stdout",
     "output_type": "stream",
     "text": [
      "Predicted:  cat   deer  dog   frog \n"
     ]
    }
   ],
   "source": [
    "# command to reload saved neural network, in case ever needed in future\n",
    "\n",
    "# network = Network()\n",
    "# network.load_state_dict(torch.load(PATH))\n",
    "\n",
    "# see what our network would predict\n",
    "\n",
    "output = network(images)\n",
    "\n",
    "_, predicted = torch.max(outputs, 1)\n",
    "\n",
    "print('Predicted: ', ' '.join(f'{classes[predicted[j]]:5s}'\n",
    "                              for j in range(4)))"
   ]
  },
  {
   "cell_type": "code",
   "execution_count": 153,
   "id": "418234bd",
   "metadata": {
    "ExecuteTime": {
     "end_time": "2023-08-18T11:06:18.428393700Z",
     "start_time": "2023-08-18T11:06:18.415889700Z"
    }
   },
   "outputs": [],
   "source": [
    "def eval_network(network, testloader):\n",
    "    correct = 0\n",
    "    total = 0\n",
    "    # since we're not training, we don't need to calculate the gradients for our outputs\n",
    "    with torch.no_grad():\n",
    "        for data in testloader:\n",
    "            images, labels = data\n",
    "            # calculate outputs by running images through the network\n",
    "            outputs = network(images)\n",
    "            # the class with the highest energy is what we choose as prediction\n",
    "            _, predicted = torch.max(outputs.data, 1)\n",
    "            total += labels.size(0)\n",
    "            correct += (predicted == labels).sum().item()\n",
    "\n",
    "    print(f'Accuracy of the network on the 10000 test images: {100 * correct // total} %')"
   ]
  },
  {
   "cell_type": "code",
   "execution_count": 154,
   "id": "6f0347c6",
   "metadata": {
    "ExecuteTime": {
     "end_time": "2023-08-18T11:06:39.700155500Z",
     "start_time": "2023-08-18T11:06:18.429401500Z"
    }
   },
   "outputs": [
    {
     "name": "stdout",
     "output_type": "stream",
     "text": [
      "Accuracy of the network on the 10000 test images: 55 %\n"
     ]
    }
   ],
   "source": [
    "eval_network(network, trainloader)"
   ]
  },
  {
   "cell_type": "markdown",
   "id": "a65589a2",
   "metadata": {},
   "source": [
    "Now, we use two different optimizers for training a CNN model on MNIST dataset. You just have to use a different optimizer and just re-use the training and evaluation code"
   ]
  },
  {
   "cell_type": "code",
   "execution_count": 155,
   "id": "51fb08ef",
   "metadata": {
    "ExecuteTime": {
     "end_time": "2023-08-18T11:06:39.788675500Z",
     "start_time": "2023-08-18T11:06:39.700155500Z"
    }
   },
   "outputs": [],
   "source": [
    "transform = transforms.Compose(\n",
    "    [transforms.ToTensor(),\n",
    "     transforms.Normalize( (0.1307,), (0.3081,))])\n",
    "\n",
    "trainset = datasets.MNIST(root = 'MNIST', train = True, transform = transform, download = True)\n",
    "testset = datasets.MNIST(root = 'MNIST', train = False, transform = transform, download = True)\n",
    "\n",
    "batch_size = 4\n",
    "\n",
    "# download data and load data in to dataloader\n",
    "\n",
    "train_size = 0.8 # define train size\n",
    "\n",
    "# split in train and validation set\n",
    "\n",
    "train_size= int(train_size*len(trainset))\n",
    "val_size = len(trainset) - train_size\n",
    "trainset, valset = torch.utils.data.random_split(trainset, [train_size, val_size])\n",
    "\n",
    "# load datasets into DataLoader\n",
    "\n",
    "trainloader = DataLoader(trainset, batch_size=batch_size, shuffle=True)\n",
    "\n",
    "valloader = DataLoader(valset, batch_size=batch_size, shuffle=False)\n",
    "\n",
    "testloader = DataLoader(testset, batch_size=batch_size, shuffle=False)"
   ]
  },
  {
   "cell_type": "code",
   "execution_count": 156,
   "id": "8a8111c6",
   "metadata": {
    "ExecuteTime": {
     "end_time": "2023-08-18T11:06:39.798464500Z",
     "start_time": "2023-08-18T11:06:39.791771Z"
    }
   },
   "outputs": [],
   "source": [
    "cnn_network = CNNNetwork()\n",
    "params = list(cnn_network.parameters())"
   ]
  },
  {
   "cell_type": "code",
   "execution_count": 157,
   "id": "6c74d2d1",
   "metadata": {
    "ExecuteTime": {
     "end_time": "2023-08-18T11:06:39.803726200Z",
     "start_time": "2023-08-18T11:06:39.798464500Z"
    }
   },
   "outputs": [],
   "source": [
    "criterion = nn.CrossEntropyLoss()\n",
    "optimizer1 = optim.Adam(params = params, lr = 0.001)\n",
    "optimizer2 = optim.Rprop(params = params, lr = 0.001)"
   ]
  },
  {
   "cell_type": "code",
   "execution_count": 158,
   "id": "baf19794",
   "metadata": {
    "ExecuteTime": {
     "end_time": "2023-08-18T11:08:33.507439100Z",
     "start_time": "2023-08-18T11:06:39.808247200Z"
    }
   },
   "outputs": [
    {
     "name": "stdout",
     "output_type": "stream",
     "text": [
      "[1,  2000] loss: 0.497\n",
      "[1,  4000] loss: 0.215\n",
      "[1,  6000] loss: 0.185\n",
      "[1,  8000] loss: 0.163\n",
      "[1, 10000] loss: 0.147\n",
      "[1, 12000] loss: 0.123\n",
      "[1,  2000] loss: 0.081\n",
      "The new best model is at epoch 0\n",
      "Epoch: 0 over\n",
      "[2,  2000] loss: 0.129\n",
      "[2,  4000] loss: 0.122\n",
      "[2,  6000] loss: 0.113\n",
      "[2,  8000] loss: 0.111\n",
      "[2, 10000] loss: 0.113\n",
      "[2, 12000] loss: 0.106\n",
      "[2,  2000] loss: 0.073\n",
      "The new best model is at epoch 1\n",
      "Epoch: 1 over\n"
     ]
    }
   ],
   "source": [
    "train_cnn_model(cnn_network, trainloader, valloader, optimizer1, criterion)"
   ]
  },
  {
   "cell_type": "code",
   "execution_count": 159,
   "id": "09b77bba",
   "metadata": {
    "ExecuteTime": {
     "end_time": "2023-08-18T11:08:37.417686100Z",
     "start_time": "2023-08-18T11:08:33.516144200Z"
    }
   },
   "outputs": [
    {
     "name": "stdout",
     "output_type": "stream",
     "text": [
      "Accuracy of the network on the test images: 97.95 %\n"
     ]
    }
   ],
   "source": [
    "accuracy_adam = evaluate_cnn_model(cnn_network, testloader)"
   ]
  },
  {
   "cell_type": "code",
   "execution_count": 160,
   "id": "00508470",
   "metadata": {
    "ExecuteTime": {
     "end_time": "2023-08-18T11:08:37.423757400Z",
     "start_time": "2023-08-18T11:08:37.417686100Z"
    }
   },
   "outputs": [],
   "source": [
    "cnn_network = CNNNetwork()\n",
    "params = list(cnn_network.parameters())"
   ]
  },
  {
   "cell_type": "code",
   "execution_count": 161,
   "id": "d36bf78e",
   "metadata": {
    "ExecuteTime": {
     "end_time": "2023-08-18T11:10:00.137250600Z",
     "start_time": "2023-08-18T11:08:37.425858100Z"
    }
   },
   "outputs": [
    {
     "name": "stdout",
     "output_type": "stream",
     "text": [
      "[1,  2000] loss: 2.304\n",
      "[1,  4000] loss: 2.304\n",
      "[1,  6000] loss: 2.302\n",
      "[1,  8000] loss: 2.303\n",
      "[1, 10000] loss: 2.304\n",
      "[1, 12000] loss: 2.303\n",
      "[1,  2000] loss: 2.297\n",
      "The new best model is at epoch 0\n",
      "Epoch: 0 over\n",
      "[2,  2000] loss: 2.303\n",
      "[2,  4000] loss: 2.303\n",
      "[2,  6000] loss: 2.304\n",
      "[2,  8000] loss: 2.303\n",
      "[2, 10000] loss: 2.304\n",
      "[2, 12000] loss: 2.304\n",
      "[2,  2000] loss: 2.297\n",
      "Epoch: 1 over\n"
     ]
    }
   ],
   "source": [
    "train_cnn_model(cnn_network, trainloader, valloader, optimizer2, criterion)"
   ]
  },
  {
   "cell_type": "code",
   "execution_count": 162,
   "id": "be56699a",
   "metadata": {
    "ExecuteTime": {
     "end_time": "2023-08-18T11:10:04.502567900Z",
     "start_time": "2023-08-18T11:10:00.137250600Z"
    }
   },
   "outputs": [
    {
     "name": "stdout",
     "output_type": "stream",
     "text": [
      "Accuracy of the network on the test images: 10.68 %\n"
     ]
    }
   ],
   "source": [
    "accuracy_rprop = evaluate_cnn_model(cnn_network, testloader)"
   ]
  },
  {
   "cell_type": "code",
   "execution_count": 163,
   "id": "dad94e88",
   "metadata": {
    "ExecuteTime": {
     "end_time": "2023-08-18T11:10:04.507396800Z",
     "start_time": "2023-08-18T11:10:04.504371800Z"
    }
   },
   "outputs": [
    {
     "name": "stdout",
     "output_type": "stream",
     "text": [
      "The accuracy of a CNNetwork with Rprob (0.1068) used as optimizer \n",
      "is about a factor 9.2 lower than the one with Adam (0.9795)\n"
     ]
    }
   ],
   "source": [
    "print(('The accuracy of a CNNetwork with Rprob ({}) used as optimizer \\nis about a factor {} lower than the one with Adam ({})')\n",
    "      .format(accuracy_rprop, round(accuracy_adam/accuracy_rprop,1), accuracy_adam))"
   ]
  },
  {
   "cell_type": "code",
   "execution_count": 163,
   "id": "48901304",
   "metadata": {
    "ExecuteTime": {
     "end_time": "2023-08-18T11:10:04.510654300Z",
     "start_time": "2023-08-18T11:10:04.510654300Z"
    }
   },
   "outputs": [],
   "source": []
  }
 ],
 "metadata": {
  "kernelspec": {
   "display_name": "Python 3 (ipykernel)",
   "language": "python",
   "name": "python3"
  },
  "language_info": {
   "codemirror_mode": {
    "name": "ipython",
    "version": 3
   },
   "file_extension": ".py",
   "mimetype": "text/x-python",
   "name": "python",
   "nbconvert_exporter": "python",
   "pygments_lexer": "ipython3",
   "version": "3.9.7"
  }
 },
 "nbformat": 4,
 "nbformat_minor": 5
}
