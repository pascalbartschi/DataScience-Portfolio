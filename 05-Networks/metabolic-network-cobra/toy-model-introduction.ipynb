{
 "cells": [
  {
   "cell_type": "markdown",
   "source": [
    "# Toy Network Analysis with Cobra\n",
    "\n",
    "## Contents\n",
    "* Flux Balance Analysis (FBA)\n",
    "* Identifying Essential and Active Reactions\n",
    "* Flux Variability Analysis (FVA)\n",
    "\n",
    "In this notebook we analyse a simple toy metabolic network to practice the use of the cobra library. The toy network is depicted below:\n",
    "\n",
    "![toy-nw](data/Toy_network.png)"
   ],
   "metadata": {
    "collapsed": false
   }
  },
  {
   "cell_type": "markdown",
   "source": [
    "## Loading Libraries and Implementing the Model"
   ],
   "metadata": {
    "collapsed": false
   }
  },
  {
   "cell_type": "code",
   "execution_count": 2,
   "outputs": [],
   "source": [
    "# importing packages and required objects\n",
    "import cobra\n",
    "from matplotlib import pyplot as plt\n",
    "import numpy as np"
   ],
   "metadata": {
    "collapsed": false,
    "ExecuteTime": {
     "end_time": "2023-09-05T15:55:58.744757300Z",
     "start_time": "2023-09-05T15:55:57.048922300Z"
    }
   }
  },
  {
   "cell_type": "markdown",
   "source": [
    "For better overview in this notebook we implement the model in the python file **toy_model.py**, where we also save it in SBML format. We read in the model with the following call:"
   ],
   "metadata": {
    "collapsed": false
   }
  },
  {
   "cell_type": "code",
   "execution_count": 5,
   "outputs": [
    {
     "name": "stderr",
     "output_type": "stream",
     "text": [
      "No objective coefficients in model. Unclear what should be optimized\n"
     ]
    }
   ],
   "source": [
    "# run the script\n",
    "!python toy_model.py\n",
    "\n",
    "model = cobra.io.read_sbml_model('data/ToyModel.xml')"
   ],
   "metadata": {
    "collapsed": false,
    "ExecuteTime": {
     "end_time": "2023-09-05T15:56:52.857995Z",
     "start_time": "2023-09-05T15:56:51.095138300Z"
    }
   }
  },
  {
   "cell_type": "markdown",
   "source": [
    "For now the model has no objective function. To define one, we need to find the reaction ID of possible outputs we want to opimize later on in the analysis. We print the number of components such as metabolites and reactions of the model that we loaded:"
   ],
   "metadata": {
    "collapsed": false
   }
  },
  {
   "cell_type": "code",
   "execution_count": 11,
   "outputs": [
    {
     "name": "stdout",
     "output_type": "stream",
     "text": [
      "Model information\n",
      "---------\n",
      "21 reactions\n",
      "16 metabolites\n",
      "0 genes\n"
     ]
    }
   ],
   "source": [
    "# Check that we have the expected amount of reactions and metabolites.\n",
    "print('Model information')\n",
    "print(\"---------\")\n",
    "print(f\"{len(model.reactions)} reactions\")\n",
    "print(f\"{len(model.metabolites)} metabolites\")\n",
    "print(f\"{len(model.genes)} genes\") # no genes implemented"
   ],
   "metadata": {
    "collapsed": false,
    "ExecuteTime": {
     "end_time": "2023-08-25T19:53:25.063567700Z",
     "start_time": "2023-08-25T19:53:25.047909200Z"
    }
   }
  },
  {
   "cell_type": "markdown",
   "source": [
    "To define an objective we print all reactions:"
   ],
   "metadata": {
    "collapsed": false
   }
  },
  {
   "cell_type": "code",
   "execution_count": 9,
   "outputs": [
    {
     "name": "stdout",
     "output_type": "stream",
     "text": [
      "Reactions\n",
      "---------\n",
      "R1 : X_c --> X_e / 0.0 / 1000.0\n",
      "R2 : A_e --> E_c / 0.0 / 1000.0\n",
      "R3 : E_c --> F_c / 0.0 / 1000.0\n",
      "R4 : E_c <=> G_c / -1000.0 / 1000.0\n",
      "R5 : F_c <=> G_c / -1000.0 / 1000.0\n",
      "R6 : F_c <=> 2.0 I_c / -1000.0 / 1000.0\n",
      "R7 : B_e --> H_c / 0.0 / 1000.0\n",
      "R8 : I_c --> J_c / 0.0 / 1000.0\n",
      "R9 : J_c --> O_c / 0.0 / 1000.0\n",
      "R10 : C_e --> L_c / 0.0 / 1000.0\n",
      "R11 : L_c --> M_c + N_c / 0.0 / 1000.0\n",
      "R12 : 1.5 N_c <=> G_c / -1000.0 / 1000.0\n",
      "R13 : M_c --> M_e / 0.0 / 1000.0\n",
      "R14 : G_c + O_c --> X_c / 0.0 / 1000.0\n",
      "R15 : H_c <=> I_c / -1000.0 / 1000.0\n",
      "R16 : B_e --> 0.5 I_c / 0.0 / 1000.0\n",
      "R17 : A_e <=>  / -10.0 / 1000.0\n",
      "R18 : M_e -->  / 0.0 / 1000.0\n",
      "R19 : C_e -->  / 0.0 / 1000.0\n",
      "R20 : B_e -->  / 0.0 / 1000.0\n",
      "R21 : X_e -->  / 0.0 / 1000.0\n"
     ]
    }
   ],
   "source": [
    "# Print the Reactions with IDs and bounds\n",
    "print(\"Reactions\")\n",
    "print(\"---------\")\n",
    "for x in model.reactions:\n",
    "    print(f\"{x.id} : {x.reaction} / {x.lower_bound} / {x.upper_bound}\")\n",
    "\n",
    "# Print the Metabolites with IDs\n",
    "# print(\"Metabolites\")\n",
    "# print(\"-----------\")\n",
    "# for x in model.metabolites:\n",
    "#     print(f\"{x.id} : {x.compartment}\")"
   ],
   "metadata": {
    "collapsed": false,
    "ExecuteTime": {
     "end_time": "2023-08-25T19:49:27.984064900Z",
     "start_time": "2023-08-25T19:49:27.936263400Z"
    }
   }
  },
  {
   "cell_type": "markdown",
   "source": [
    "## Flux Balance Analysis (FBA)\n",
    "\n",
    "We need Flux Balance Analysis is a powerful approach to analyse and predict the behaviour metabolic behaviour within organisms. Each reaction is seen as a \"flux\" of the system, whereas the word \"balance\" refers to the system being in steady state. We use this steady state to optimize a single \"flux\" or output in this example.\n",
    "\n",
    "As we see in the graph synthesis rate of X_e depends on the rate of substrate uptake, which in this case is going to be only A_e. Increasing the uptake rate of A_e would result in a proportional increase in the synthesis of X_e.\n",
    "We perform FBA to get the maximal production of X_e when A_e is imported into the cell (“taken up”) at a maximal rate of 10 mmol/gDW/hr. In this analysis we choose to maximize the output of X_e of the cell, thus we choose \"R1\" to be our objective with this call:"
   ],
   "metadata": {
    "collapsed": false
   }
  },
  {
   "cell_type": "code",
   "execution_count": 10,
   "outputs": [],
   "source": [
    "# Set the objective:\n",
    "model.objective = \"R1\"\n",
    "# Save the updated model:\n",
    "# We can save the updated model into SBML format if we need:\n",
    "# cobra.io.write_sbml_model(model, 'ToyModel.xml')"
   ],
   "metadata": {
    "collapsed": false,
    "ExecuteTime": {
     "end_time": "2023-08-25T19:51:32.852662400Z",
     "start_time": "2023-08-25T19:51:32.852662400Z"
    }
   }
  },
  {
   "cell_type": "markdown",
   "source": [
    "To ensure that only A_e is imported, we cut off all other import of metabolites by setting the lower bound to zero, i.e. make the reverse reaction impossible:"
   ],
   "metadata": {
    "collapsed": false
   }
  },
  {
   "cell_type": "code",
   "execution_count": 12,
   "outputs": [],
   "source": [
    "# lower_bound controls the reverse reaction -> we set all but R1 to 0: nothing gets in but A\n",
    "for i in [18, 19, 20, 21]:\n",
    "    model.reactions.get_by_id(\"R\"+str(i)).lower_bound = 0."
   ],
   "metadata": {
    "collapsed": false,
    "ExecuteTime": {
     "end_time": "2023-08-25T20:11:09.492385300Z",
     "start_time": "2023-08-25T20:11:09.487058900Z"
    }
   }
  },
  {
   "cell_type": "markdown",
   "source": [
    "To explore the relationship of A_e and X_e in this network we increase the import of A_e stepwise (more negative -> more import). We see that the relationship is linear, thus more import of A_e means proportionally more output of X_e."
   ],
   "metadata": {
    "collapsed": false
   }
  },
  {
   "cell_type": "code",
   "execution_count": 21,
   "outputs": [
    {
     "data": {
      "text/plain": "<Figure size 640x480 with 1 Axes>",
      "image/png": "[encoded data removed]"
     },
     "metadata": {},
     "output_type": "display_data"
    }
   ],
   "source": [
    "lows = np.arange(-1, -20, -1)\n",
    "opts = []\n",
    "for l in lows:\n",
    "    model.reactions.get_by_id(\"R17\").lower_bound = l\n",
    "    fba_solution = model.optimize()\n",
    "    # Uncomment the lines to view the model summaries:\n",
    "    # print(fba_solution.objective_value)\n",
    "    # print(model.summary())\n",
    "    opts.append(fba_solution.objective_value)\n",
    "\n",
    "plt.scatter(-lows, opts)\n",
    "plt.xlabel(\"Values of A_e\")\n",
    "plt.ylabel(\"X_e Output\")\n",
    "plt.show()"
   ],
   "metadata": {
    "collapsed": false,
    "ExecuteTime": {
     "end_time": "2023-08-25T20:14:33.809262400Z",
     "start_time": "2023-08-25T20:14:33.715535Z"
    }
   }
  },
  {
   "cell_type": "markdown",
   "source": [
    "## Identifying Essential Reactions\n",
    "\n",
    "A reaction is essential for the synthesis of a molecule from a specific substrate if its removal makes the synthesis of that molecule from the substrate impossible. As an example, consider the reactions involved in the synthesis of metabolite O from substrate B_e in figure 1. Synthesis of O from B_e requires reactions R8 and R9, but not R7 and R15, as these can be replaced by R16. If we were to delete either R8 or R9, it would be impossible to synthesize O from B_e. We therefore say that reactions R8 and R9 are essential for the production of O from substrate B_e.\n",
    "\n",
    "With the function `single_reaction_deletion` we can identify essential reactions:"
   ],
   "metadata": {
    "collapsed": false
   }
  },
  {
   "cell_type": "code",
   "execution_count": 22,
   "outputs": [
    {
     "name": "stdout",
     "output_type": "stream",
     "text": [
      "Reaction that are essential are:\n",
      "0      {R9}\n",
      "2      {R2}\n",
      "5     {R17}\n",
      "8     {R14}\n",
      "12     {R1}\n",
      "17     {R8}\n",
      "18    {R21}\n",
      "20     {R6}\n",
      "Name: ids, dtype: object\n"
     ]
    }
   ],
   "source": [
    "if __name__ == \"__main__\":\n",
    "    from cobra.flux_analysis import single_reaction_deletion\n",
    "    # we call single reaction deletion\n",
    "    deletion_results = single_reaction_deletion(model)\n",
    "    # lower_bound controls the reverse reaction -> we set all but A to 0: nothing gets in but A\n",
    "    print(\"Reactions that are essential are:\")\n",
    "    mask = deletion_results[\"growth\"].round(3) == 0 # important as the algorithm output 4*10^-15 instead of 0.\n",
    "    print(deletion_results[mask][\"ids\"])"
   ],
   "metadata": {
    "collapsed": false,
    "ExecuteTime": {
     "end_time": "2023-08-25T20:15:48.676676500Z",
     "start_time": "2023-08-25T20:15:44.655232Z"
    }
   }
  },
  {
   "cell_type": "markdown",
   "source": [
    "Instead of using `single_reaction_deletion` we can apply FBA on metabolic where we cut single reactions to explore its affect on the model. This code basically explains what happens inside cobras helper function used above:"
   ],
   "metadata": {
    "collapsed": false
   }
  },
  {
   "cell_type": "code",
   "execution_count": 23,
   "outputs": [
    {
     "name": "stdout",
     "output_type": "stream",
     "text": [
      "Reaction R3 is NOT an essential reaction, because the FBA is 6.666666666666666\n",
      "Reaction R6 is an essential reaction, because the FBA is 0.0\n"
     ]
    }
   ],
   "source": [
    "# first define reaction IDS to test:\n",
    "Rs_totest = [3, 6]\n",
    "model.reactions.get_by_id(\"R17\").lower_bound = -10.\n",
    "for i in Rs_totest:\n",
    "    # set interest to 0 flux\n",
    "    model.reactions.get_by_id(f\"R{i}\").upper_bound = 0.\n",
    "    fba_solution = model.optimize()\n",
    "    # print(fba_solution.objective_value)\n",
    "    objective = fba_solution.objective_value\n",
    "    # if outflux is 0 we know that\n",
    "    if round(objective, 3) == 0:\n",
    "        print(f\"Reaction R{i} is an essential reaction, because the FBA is {objective}\")\n",
    "    else:\n",
    "        print(f\"Reaction R{i} is NOT an essential reaction, because the FBA is {objective}\")\n",
    "    # reset\n",
    "    model.reactions.get_by_id(f\"R{i}\").upper_bound = 1000."
   ],
   "metadata": {
    "collapsed": false,
    "ExecuteTime": {
     "end_time": "2023-08-25T21:01:35.991600400Z",
     "start_time": "2023-08-25T21:01:35.975673800Z"
    }
   }
  },
  {
   "cell_type": "markdown",
   "source": [
    "## Identifying Active Reactions\n",
    "\n",
    "Active reactions are reactions that have a non-zero metabolic flux, that is, reactions proceeding at a rate different from zero. It is NOT the upper and/or lower bound of a reaction that determines whether it is active, but the effective flux of the reaction in the FBA solution. Therefore, we can only know whether a reaction is active or not after performing FBA.\n",
    "This approach is similar to the detection of essential reactions, except that we're not cutting of input. We can directly extract the fluxes from the optimized model object with the attribute `fluxes`:"
   ],
   "metadata": {
    "collapsed": false
   }
  },
  {
   "cell_type": "code",
   "execution_count": 24,
   "outputs": [
    {
     "name": "stdout",
     "output_type": "stream",
     "text": [
      "The active reactions are:\n",
      "['R3', 'R7', 'R10', 'R11', 'R12', 'R13', 'R15', 'R16', 'R18', 'R19', 'R20']\n"
     ]
    }
   ],
   "source": [
    "fluxes = model.optimize().fluxes\n",
    "print(\"The active reactions are:\")\n",
    "print(list(fluxes[fluxes.round(3) == 0].index))"
   ],
   "metadata": {
    "collapsed": false,
    "ExecuteTime": {
     "end_time": "2023-08-25T21:07:49.205681200Z",
     "start_time": "2023-08-25T21:07:49.156262100Z"
    }
   }
  },
  {
   "cell_type": "markdown",
   "source": [
    "## Flux Variability Analysis (FVA)\n",
    "\n",
    "FBA solutions are rarely unique. For example, think about the active pathway we found earlier that produces X_e from A_e. Is this the only possible solution that maximizes production of X_e?\n",
    "In general, we find that at least some reactions can take a whole range of fluxes without affecting the flux through the objective function. Metabolic networks are thus “flux variable”, and FVA can provide some insights into the extent of the network’s flux variability. FVA computes the minimum and maximum value of the flux through a reaction while keeping a given objective, such as biomass synthesis, unchanged, thus estimating the range of possible fluxes through a reaction (the reaction’s flux variability).\n",
    "\n",
    "We perform FVA and drop the reactions that don't vary by filtering for zero values:"
   ],
   "metadata": {
    "collapsed": false
   }
  },
  {
   "cell_type": "code",
   "execution_count": 39,
   "outputs": [
    {
     "name": "stdout",
     "output_type": "stream",
     "text": [
      "The FVA results in:\n",
      "        minimum      maximum\n",
      "R1     6.666667     6.666667\n",
      "R2    10.000000    10.000000\n",
      "R3     0.000000  1000.000000\n",
      "R4  -990.000000    10.000000\n",
      "R5    -3.333333   996.666667\n",
      "R6     3.333333     3.333333\n",
      "R8     6.666667     6.666667\n",
      "R9     6.666667     6.666667\n",
      "R14    6.666667     6.666667\n",
      "R17  -10.000000   -10.000000\n",
      "R21    6.666667     6.666667\n"
     ]
    }
   ],
   "source": [
    "if __name__ == \"__main__\":\n",
    "    # fva\n",
    "    fva_solution = cobra.flux_analysis.flux_variability_analysis(model)\n",
    "    print(\"The FVA results in:\")\n",
    "    # filter\n",
    "    mask = np.logical_or(fva_solution['minimum'] != 0, fva_solution['maximum'] != 0).to_numpy()\n",
    "    print(fva_solution[mask])"
   ],
   "metadata": {
    "collapsed": false,
    "ExecuteTime": {
     "end_time": "2023-08-25T21:18:57.985891100Z",
     "start_time": "2023-08-25T21:18:49.907631100Z"
    }
   }
  },
  {
   "cell_type": "markdown",
   "source": [
    "Thank you for checking out my simple analysis, I hope you could learn something."
   ],
   "metadata": {
    "collapsed": false
   }
  }
 ],
 "metadata": {
  "kernelspec": {
   "display_name": "Python 3",
   "language": "python",
   "name": "python3"
  },
  "language_info": {
   "codemirror_mode": {
    "name": "ipython",
    "version": 2
   },
   "file_extension": ".py",
   "mimetype": "text/x-python",
   "name": "python",
   "nbconvert_exporter": "python",
   "pygments_lexer": "ipython2",
   "version": "2.7.6"
  }
 },
 "nbformat": 4,
 "nbformat_minor": 0
}
