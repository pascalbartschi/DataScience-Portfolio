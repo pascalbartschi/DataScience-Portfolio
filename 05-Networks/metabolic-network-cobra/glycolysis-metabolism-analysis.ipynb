{
 "cells": [
  {
   "cell_type": "markdown",
   "source": [
    "# Glycolysis Metabolic Network\n",
    "\n",
    "This metabolic network consists of reactions involved in the glycolysis pathway. The default objective function is the maximization of ATP production (abbreviated as atp in the metabolic model). The figure below serves as a visual representation of the network.\n",
    "\n",
    "![network](data/glycolysis_network.png)"
   ],
   "metadata": {
    "collapsed": false
   }
  },
  {
   "cell_type": "markdown",
   "source": [
    "## Loading Libraries and Importing the Model\n",
    "\n",
    "We import the glycolysis model from the [BiGG Models](http://bigg.ucsd.edu) database using the cobrapy package. We also import the necessary packages for plotting and analysis."
   ],
   "metadata": {
    "collapsed": false
   }
  },
  {
   "cell_type": "code",
   "execution_count": 1,
   "outputs": [],
   "source": [
    "# libraries\n",
    "import cobra\n",
    "\n",
    "# import the glycolysis model\n",
    "model = cobra.io.read_sbml_model('data/glycolysis.xml')"
   ],
   "metadata": {
    "collapsed": false,
    "ExecuteTime": {
     "end_time": "2023-09-05T15:52:26.389462700Z",
     "start_time": "2023-09-05T15:52:24.818862900Z"
    }
   }
  },
  {
   "cell_type": "markdown",
   "source": [
    "## Exploration\n",
    "\n",
    "The `model.objective` is already set to maximize ATP prodcution- We can explore the model by printing out the reactions outputs and metabolites in the model."
   ],
   "metadata": {
    "collapsed": false
   }
  },
  {
   "cell_type": "code",
   "execution_count": 16,
   "outputs": [
    {
     "name": "stdout",
     "output_type": "stream",
     "text": [
      "Reaction Outputs\n",
      "GLCtr, GLCPTS, HEX, PYRtr, LACtr, Htr, O2tr, H2Otr, PGI, PFK, FBP, FBA, TPI, GAPD, PGK, PGM, ENO, PYK, LDH, BIOMASS, EX_glc_D, EX_h, EX_pyr, EX_lac_D, EX_o2, EX_h2o, \n",
      "\n",
      "Metabolites\n",
      "h_e, glc_D, h, glc_D_e, pyr, pep, g6p, adp, atp, pyr_e, lac_D, lac_D_e, o2_e, o2, h2o_e, h2o, f6p, fdp, pi, g3p, dhap, nad, 13dpg, nadh, 3pg, 2pg, "
     ]
    }
   ],
   "source": [
    "print(\"Reaction Outputs\")\n",
    "for row in model.reactions:\n",
    "    # print(row.name, \":\", row.id, \":\", row.lower_bound, \":\", row.upper_bound)\n",
    "    print(str(row.name) + \", \", end = \"\")\n",
    "\n",
    "print(\"\\n\\nMetabolites\")\n",
    "for row in model.metabolites:\n",
    "    print(str(row) + \", \", end = \"\")"
   ],
   "metadata": {
    "collapsed": false,
    "ExecuteTime": {
     "end_time": "2023-08-29T15:40:55.527139500Z",
     "start_time": "2023-08-29T15:40:55.508386600Z"
    }
   }
  },
  {
   "cell_type": "markdown",
   "source": [
    "## Flux Balance Analysis\n",
    "Once we have gathered the information about the reactions, we perform FBA to maximize ATP production. How many active reactions are there in the model?"
   ],
   "metadata": {
    "collapsed": false
   }
  },
  {
   "cell_type": "code",
   "execution_count": 18,
   "outputs": [
    {
     "name": "stdout",
     "output_type": "stream",
     "text": [
      "There are 16 active reactions: GLCPTS, LACtr, PGI, PFK, FBA, TPI, GAPD, PGK, PGM, ENO, PYK, LDH, BIOMASS, EX_h, EX_lac_D, EX_h2o, "
     ]
    }
   ],
   "source": [
    "# perform FBA\n",
    "fluxes = model.optimize().fluxes\n",
    "ar = fluxes[fluxes.round(3) > 0].index\n",
    "print(f\"There are {len(ar)} active reactions:\", end = \" \")\n",
    "for r in ar:\n",
    "    print(model.reactions.get_by_id(r).name + \", \", end = \"\")"
   ],
   "metadata": {
    "collapsed": false,
    "ExecuteTime": {
     "end_time": "2023-08-29T15:43:53.094846300Z",
     "start_time": "2023-08-29T15:43:53.078201800Z"
    }
   }
  },
  {
   "cell_type": "markdown",
   "source": [
    "\n",
    "Next we are interested in identifying the role of the reaction catalyzed by lactate dehydrogenase (LDH in the model), beyond its enzymatic function. We want to know whether it is an essential reaction and in which context it performs its enzymatic function"
   ],
   "metadata": {
    "collapsed": false
   }
  },
  {
   "cell_type": "code",
   "execution_count": 23,
   "outputs": [
    {
     "name": "stdout",
     "output_type": "stream",
     "text": [
      "LDH is an essential reaction!\n",
      "\n",
      " R19: nadh + pyr <=> lac_D + nad\n"
     ]
    }
   ],
   "source": [
    "if __name__ == \"__main__\":\n",
    "    import cobra\n",
    "    from cobra import Model, Reaction, Metabolite\n",
    "    from cobra.flux_analysis import single_reaction_deletion\n",
    "\n",
    "    # extract the reaction id for LDH\n",
    "    for i in model.reactions:\n",
    "        if i.name == \"LDH\": ID = i.id\n",
    "    deletion_results = single_reaction_deletion(model)\n",
    "    # lower_bound controls the reverse reaction -> we set all but a to 0: nothing gets in but A\n",
    "\n",
    "    mask = deletion_results[\"growth\"].round(3) == 0\n",
    "    if {ID} in list(deletion_results[mask][\"ids\"]):\n",
    "        print(\"LDH is an essential reaction!\")\n",
    "    else:\n",
    "        print(\"LDS is NOT an essential\")\n",
    "\n",
    "    print(\"\\n\", model.reactions.get_by_id(ID))\n"
   ],
   "metadata": {
    "collapsed": false,
    "ExecuteTime": {
     "end_time": "2023-08-29T15:53:36.605120Z",
     "start_time": "2023-08-29T15:53:32.468924300Z"
    }
   }
  },
  {
   "cell_type": "code",
   "execution_count": 24,
   "outputs": [
    {
     "name": "stdout",
     "output_type": "stream",
     "text": [
      "nadh\n",
      "====\n",
      "Formula: None\n",
      "\n",
      "Producing Reactions\n",
      "-------------------\n",
      "Percent Flux Reaction                          Definition\n",
      "100.00%   20      R14 g3p + nad + pi <=> 13dpg + h + nadh\n",
      "\n",
      "Consuming Reactions\n",
      "-------------------\n",
      "Percent Flux Reaction                 Definition\n",
      "100.00%  -20      R19 nadh + pyr <=> lac_D + nad\n"
     ]
    }
   ],
   "source": [
    "# summary of nadh produced by Lac_D\n",
    "print(model.metabolites.nadh.summary())"
   ],
   "metadata": {
    "collapsed": false,
    "ExecuteTime": {
     "end_time": "2023-08-29T15:53:49.013965Z",
     "start_time": "2023-08-29T15:53:48.967502700Z"
    }
   }
  },
  {
   "cell_type": "code",
   "execution_count": null,
   "outputs": [],
   "source": [],
   "metadata": {
    "collapsed": false
   }
  }
 ],
 "metadata": {
  "kernelspec": {
   "display_name": "Python 3",
   "language": "python",
   "name": "python3"
  },
  "language_info": {
   "codemirror_mode": {
    "name": "ipython",
    "version": 2
   },
   "file_extension": ".py",
   "mimetype": "text/x-python",
   "name": "python",
   "nbconvert_exporter": "python",
   "pygments_lexer": "ipython2",
   "version": "2.7.6"
  }
 },
 "nbformat": 4,
 "nbformat_minor": 0
}
